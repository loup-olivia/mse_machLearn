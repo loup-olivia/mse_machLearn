{
 "cells": [
  {
   "cell_type": "markdown",
   "id": "bcf79585",
   "metadata": {},
   "source": [
    "# Exercice 2 - System evaluation"
   ]
  },
  {
   "cell_type": "markdown",
   "id": "f642cedb",
   "metadata": {},
   "source": [
    "## Imports"
   ]
  },
  {
   "cell_type": "code",
   "execution_count": 127,
   "id": "9421a4e1",
   "metadata": {},
   "outputs": [],
   "source": [
    "import pandas as pd\n",
    "import numpy as np\n",
    "#import sklearn.metrics #import confusion_matrix"
   ]
  },
  {
   "cell_type": "markdown",
   "id": "a0d67fa6",
   "metadata": {},
   "source": [
    "## Load data"
   ]
  },
  {
   "cell_type": "markdown",
   "id": "5fe90672",
   "metadata": {},
   "source": [
    "Define the path of the data file"
   ]
  },
  {
   "cell_type": "code",
   "execution_count": 128,
   "id": "ecd4a4cf",
   "metadata": {},
   "outputs": [],
   "source": [
    "path = \"ex2-system-a.csv\""
   ]
  },
  {
   "cell_type": "markdown",
   "id": "246e7392",
   "metadata": {},
   "source": [
    "Read the CSV file using `read_csv`"
   ]
  },
  {
   "cell_type": "code",
   "execution_count": 129,
   "id": "623096a5",
   "metadata": {},
   "outputs": [],
   "source": [
    "dataset_a = pd.read_csv(path, sep=\";\", index_col=False, names=[\"0\", \"1\", \"2\", \"3\", \"4\", \"5\", \"6\", \"7\", \"8\", \"9\", \"y_true\"])"
   ]
  },
  {
   "cell_type": "markdown",
   "id": "6f764c56",
   "metadata": {},
   "source": [
    "Display first rows"
   ]
  },
  {
   "cell_type": "code",
   "execution_count": 130,
   "id": "c59a1651",
   "metadata": {},
   "outputs": [
    {
     "data": {
      "text/html": [
       "<div>\n",
       "<style scoped>\n",
       "    .dataframe tbody tr th:only-of-type {\n",
       "        vertical-align: middle;\n",
       "    }\n",
       "\n",
       "    .dataframe tbody tr th {\n",
       "        vertical-align: top;\n",
       "    }\n",
       "\n",
       "    .dataframe thead th {\n",
       "        text-align: right;\n",
       "    }\n",
       "</style>\n",
       "<table border=\"1\" class=\"dataframe\">\n",
       "  <thead>\n",
       "    <tr style=\"text-align: right;\">\n",
       "      <th></th>\n",
       "      <th>0</th>\n",
       "      <th>1</th>\n",
       "      <th>2</th>\n",
       "      <th>3</th>\n",
       "      <th>4</th>\n",
       "      <th>5</th>\n",
       "      <th>6</th>\n",
       "      <th>7</th>\n",
       "      <th>8</th>\n",
       "      <th>9</th>\n",
       "      <th>y_true</th>\n",
       "    </tr>\n",
       "  </thead>\n",
       "  <tbody>\n",
       "    <tr>\n",
       "      <th>0</th>\n",
       "      <td>5.348450e-08</td>\n",
       "      <td>7.493480e-10</td>\n",
       "      <td>8.083470e-07</td>\n",
       "      <td>2.082290e-05</td>\n",
       "      <td>5.222360e-10</td>\n",
       "      <td>2.330260e-08</td>\n",
       "      <td>5.241270e-12</td>\n",
       "      <td>9.999650e-01</td>\n",
       "      <td>4.808590e-07</td>\n",
       "      <td>0.000013</td>\n",
       "      <td>7</td>\n",
       "    </tr>\n",
       "    <tr>\n",
       "      <th>1</th>\n",
       "      <td>1.334270e-03</td>\n",
       "      <td>3.202960e-05</td>\n",
       "      <td>8.504280e-01</td>\n",
       "      <td>1.669090e-03</td>\n",
       "      <td>1.546460e-07</td>\n",
       "      <td>2.412940e-04</td>\n",
       "      <td>1.448280e-01</td>\n",
       "      <td>1.122810e-11</td>\n",
       "      <td>1.456330e-03</td>\n",
       "      <td>0.000011</td>\n",
       "      <td>2</td>\n",
       "    </tr>\n",
       "    <tr>\n",
       "      <th>2</th>\n",
       "      <td>3.643050e-06</td>\n",
       "      <td>9.962760e-01</td>\n",
       "      <td>2.045910e-03</td>\n",
       "      <td>4.210530e-04</td>\n",
       "      <td>2.194020e-05</td>\n",
       "      <td>1.644130e-05</td>\n",
       "      <td>2.838160e-04</td>\n",
       "      <td>3.722960e-04</td>\n",
       "      <td>5.150120e-04</td>\n",
       "      <td>0.000044</td>\n",
       "      <td>1</td>\n",
       "    </tr>\n",
       "    <tr>\n",
       "      <th>3</th>\n",
       "      <td>9.998200e-01</td>\n",
       "      <td>2.550390e-10</td>\n",
       "      <td>1.112010e-05</td>\n",
       "      <td>1.653200e-05</td>\n",
       "      <td>5.375730e-10</td>\n",
       "      <td>8.999750e-05</td>\n",
       "      <td>9.380920e-06</td>\n",
       "      <td>4.464470e-05</td>\n",
       "      <td>2.418440e-06</td>\n",
       "      <td>0.000006</td>\n",
       "      <td>0</td>\n",
       "    </tr>\n",
       "    <tr>\n",
       "      <th>4</th>\n",
       "      <td>2.092460e-08</td>\n",
       "      <td>7.464220e-08</td>\n",
       "      <td>3.560820e-05</td>\n",
       "      <td>5.496200e-07</td>\n",
       "      <td>9.988960e-01</td>\n",
       "      <td>3.070920e-08</td>\n",
       "      <td>2.346150e-04</td>\n",
       "      <td>9.748010e-07</td>\n",
       "      <td>1.071610e-06</td>\n",
       "      <td>0.000831</td>\n",
       "      <td>4</td>\n",
       "    </tr>\n",
       "  </tbody>\n",
       "</table>\n",
       "</div>"
      ],
      "text/plain": [
       "              0             1             2             3             4  \\\n",
       "0  5.348450e-08  7.493480e-10  8.083470e-07  2.082290e-05  5.222360e-10   \n",
       "1  1.334270e-03  3.202960e-05  8.504280e-01  1.669090e-03  1.546460e-07   \n",
       "2  3.643050e-06  9.962760e-01  2.045910e-03  4.210530e-04  2.194020e-05   \n",
       "3  9.998200e-01  2.550390e-10  1.112010e-05  1.653200e-05  5.375730e-10   \n",
       "4  2.092460e-08  7.464220e-08  3.560820e-05  5.496200e-07  9.988960e-01   \n",
       "\n",
       "              5             6             7             8         9  y_true  \n",
       "0  2.330260e-08  5.241270e-12  9.999650e-01  4.808590e-07  0.000013       7  \n",
       "1  2.412940e-04  1.448280e-01  1.122810e-11  1.456330e-03  0.000011       2  \n",
       "2  1.644130e-05  2.838160e-04  3.722960e-04  5.150120e-04  0.000044       1  \n",
       "3  8.999750e-05  9.380920e-06  4.464470e-05  2.418440e-06  0.000006       0  \n",
       "4  3.070920e-08  2.346150e-04  9.748010e-07  1.071610e-06  0.000831       4  "
      ]
     },
     "execution_count": 130,
     "metadata": {},
     "output_type": "execute_result"
    }
   ],
   "source": [
    "dataset_a.head()"
   ]
  },
  {
   "cell_type": "markdown",
   "id": "41f040b0",
   "metadata": {},
   "source": [
    "Store some useful statistics (class names + number of classes)"
   ]
  },
  {
   "cell_type": "code",
   "execution_count": 131,
   "id": "fd0adce4",
   "metadata": {},
   "outputs": [],
   "source": [
    "class_names = [\"0\", \"1\", \"2\", \"3\", \"4\", \"5\", \"6\", \"7\", \"8\", \"9\"]\n",
    "nb_classes = len(class_names)"
   ]
  },
  {
   "cell_type": "markdown",
   "id": "5a0ab85a",
   "metadata": {},
   "source": [
    "## Exercise's steps"
   ]
  },
  {
   "cell_type": "markdown",
   "id": "66ae582e",
   "metadata": {},
   "source": [
    "a) Write a function to take classification decisions on such outputs according to Bayes’rule."
   ]
  },
  {
   "cell_type": "code",
   "execution_count": 132,
   "id": "3c36b377",
   "metadata": {},
   "outputs": [],
   "source": [
    "def bayes_classification(df,nb_classes,class_names):\n",
    "        \"\"\"\n",
    "        Take classification decisions according to Bayes rule.\n",
    "\n",
    "        Parameters\n",
    "        ----------\n",
    "        df : Pandas DataFrame of shape (n_samples, n_features + ground truth)\n",
    "                Dataset.\n",
    "                \n",
    "        Returns\n",
    "        -------\n",
    "        preds : Numpy array of shape (n_samples,)\n",
    "                Class labels for each data sample.\n",
    "        \"\"\"\n",
    "        N =len(df)*nb_classes\n",
    "        # give feature\n",
    "        x = df[class_names].to_numpy()#[class_names]\n",
    "        \n",
    "        label = df['y_true']\n",
    "        label = list(label)\n",
    "        # create p(x) = probability of\n",
    "        mu = np.mean(x)\n",
    "        sigma = np.var(x)\n",
    "\n",
    "        # Nn = len(x) -> y = n\n",
    "        # create P_Cx = priori proba [10,0]\n",
    "        P_Cx = [label.count(i)/len(label) for i in range(nb_classes)]\n",
    "        # create P(x|Cx) = likelihood [10000 x 10]\n",
    "        P_x_Cx = 1/np.sqrt((2*np.pi*sigma**2))*np.exp(-(x-mu)**2/(2*sigma**2))\n",
    "        P_Cx_x = np.zeros((len(df)))\n",
    "        evidence = sum([P_Cx[c] * P_x_Cx[c] for c in range(len(P_Cx))])\n",
    "        for i in range(len(df)):\n",
    "                #priori = P_Cx[i]#label.count(i)/N\n",
    "                #likelihood = P_x_Cx[i]\n",
    "    \n",
    "                # create P(Cx|x) = posteriori \n",
    "                \n",
    "                P_Cx_x[i] = np.argmax((P_x_Cx[i][:] * P_Cx)/evidence)\n",
    "        y = P_Cx_x\n",
    "        return y"
   ]
  },
  {
   "cell_type": "markdown",
   "id": "b5e8140b",
   "metadata": {},
   "source": [
    "b) What is the overall error rate of the system ?"
   ]
  },
  {
   "cell_type": "code",
   "execution_count": 133,
   "id": "f3b21bfb",
   "metadata": {},
   "outputs": [
    {
     "name": "stdout",
     "output_type": "stream",
     "text": [
      "0.98389\n"
     ]
    }
   ],
   "source": [
    "# Your code here: compute and print the error rate of the system\n",
    "N = nb_classes*len(dataset_a)\n",
    "y_true = dataset_a['y_true']\n",
    "y_pred = bayes_classification(dataset_a,nb_classes,class_names)\n",
    "acc = np.sum(y_pred[(y_pred == y_true)])/N\n",
    "err_rate = 1- acc\n",
    "print(err_rate)"
   ]
  },
  {
   "cell_type": "markdown",
   "id": "a4f0fa5f",
   "metadata": {},
   "source": [
    "c) Compute and report the confusion matrix of the system."
   ]
  },
  {
   "cell_type": "code",
   "execution_count": 134,
   "id": "bb106415",
   "metadata": {},
   "outputs": [],
   "source": [
    "def confusion_matrix(y_true, y_pred, n_classes):\n",
    "    \"\"\"\n",
    "    Compute the confusion matrix.\n",
    "        \n",
    "    Parameters\n",
    "    ----------\n",
    "    y_true : Numpy array of shape (n_samples,)\n",
    "             Ground truth.\n",
    "    y_pred : Numpy array of shape (n_samples,)\n",
    "             Predictions.\n",
    "    n_classes : Integer\n",
    "                Number of classes.\n",
    "         \n",
    "    Returns\n",
    "    -------\n",
    "    cm : Numpy array of shape (n_classes, n_classes)\n",
    "         Confusion matrix.\n",
    "    \"\"\"\n",
    "    cm = pd.crosstab(y_true, y_pred)\n",
    "    return cm"
   ]
  },
  {
   "cell_type": "code",
   "execution_count": 135,
   "id": "1b38e3a8",
   "metadata": {},
   "outputs": [
    {
     "name": "stdout",
     "output_type": "stream",
     "text": [
      "col_0   0.0  1.0  2.0  3.0  4.0  5.0  6.0  7.0  8.0  9.0\n",
      "y_true                                                  \n",
      "0         9  863   36    8    4   26   12    2    9   11\n",
      "1         1   13  107   18    3    7    4   24   37  921\n",
      "2        13  865   33   40   11    4    9    8   27   22\n",
      "3        20  731   50   46   10   71    4   15   29   34\n",
      "4         1  716   21   11   23    4   14    8   10  174\n",
      "5        42  600   18   62   33   19   16    5   55   42\n",
      "6        24  741   88    6   31   24   24    0   13    7\n",
      "7         4  789   29   25    5    0    0   24    4  148\n",
      "8        21  601   61   59   36   38   17    4   32  105\n",
      "9         7  624   10   38  107   13    2  122   15   71\n"
     ]
    }
   ],
   "source": [
    "# Your code here: compute and print the confusion matrix\n",
    "y_true = dataset_a['y_true']\n",
    "y_pred = bayes_classification(dataset_a,nb_classes,class_names)\n",
    "cm = confusion_matrix(y_true,y_pred,nb_classes)\n",
    "print(cm)"
   ]
  },
  {
   "cell_type": "markdown",
   "id": "ed8db908",
   "metadata": {},
   "source": [
    "d) What are the worst and best classes in terms of precision and recall ?"
   ]
  },
  {
   "cell_type": "code",
   "execution_count": 136,
   "id": "0e229ce0",
   "metadata": {},
   "outputs": [],
   "source": [
    "def precision_per_class(cm):\n",
    "    \"\"\"\n",
    "    Compute the precision per class.\n",
    "        \n",
    "    Parameters\n",
    "    ----------\n",
    "    cm : Numpy array of shape (n_classes, n_classes)\n",
    "         Confusion matrix.\n",
    "         \n",
    "    Returns\n",
    "    -------\n",
    "    precisions : Numpy array of shape (n_classes,)\n",
    "                 Precision per class.\n",
    "    \"\"\"\n",
    "    #cm = cm.to_numpy()\n",
    "    Fp = cm.sum(axis=0) - np.diag(cm) \n",
    "    Tp = np.diag(cm)\n",
    "    precisions = (Tp)/(Tp+Fp)\n",
    "    return precisions"
   ]
  },
  {
   "cell_type": "code",
   "execution_count": 137,
   "id": "95325772",
   "metadata": {},
   "outputs": [],
   "source": [
    "def recall_per_class(cm):\n",
    "    \"\"\"\n",
    "    Compute the recall per class.\n",
    "        \n",
    "    Parameters\n",
    "    ----------\n",
    "    cm : Numpy array of shape (n_classes, n_classes)\n",
    "         Confusion matrix.\n",
    "         \n",
    "    Returns\n",
    "    -------\n",
    "    recalls : Numpy array of shape (n_classes,)\n",
    "              Recall per class.\n",
    "    \"\"\"\n",
    "    Tp = np.diag(cm)\n",
    "    Fn = cm.sum(axis=1) - np.diag(cm)\n",
    "    recalls = Tp /(Tp+Fn)\n",
    "    return recalls"
   ]
  },
  {
   "cell_type": "code",
   "execution_count": 138,
   "id": "a0fb19e3",
   "metadata": {},
   "outputs": [
    {
     "name": "stdout",
     "output_type": "stream",
     "text": [
      "Worst class are 0.0019868561821794286 in label 1\n",
      "Best class are 0.23529411764705882 in label 6\n"
     ]
    }
   ],
   "source": [
    "# Your code here: find and print the worst and best classes in terms of precision\n",
    "prec = precision_per_class(cm)\n",
    "w_class = min(prec)\n",
    "b_class = max(prec)\n",
    "print(f\"Worst class are {w_class} in label {prec.argmin()}\")\n",
    "print(f\"Best class are {b_class} in label {prec.argmax()}\")"
   ]
  },
  {
   "cell_type": "code",
   "execution_count": 139,
   "id": "42c3edd8",
   "metadata": {},
   "outputs": [
    {
     "name": "stdout",
     "output_type": "stream",
     "text": [
      "Worst class are 0.009183673469387756 in label 0\n",
      "Best class are 0.07036669970267592 in label 9\n"
     ]
    }
   ],
   "source": [
    "# Your code here: find and print the worst and best classes in terms of recall\n",
    "rec = recall_per_class(cm)\n",
    "w_class = min(rec)\n",
    "b_class = max(rec)\n",
    "print(f\"Worst class are {w_class} in label {rec.argmin()}\")\n",
    "print(f\"Best class are {b_class} in label {rec.argmax()}\")"
   ]
  },
  {
   "cell_type": "markdown",
   "id": "7ac6fe5d",
   "metadata": {},
   "source": [
    "e) In file `ex1-system-b.csv` you find the output of a second system B. What is the best system between (a) and (b) in terms of error rate and F1."
   ]
  },
  {
   "cell_type": "code",
   "execution_count": 140,
   "id": "b98c2545",
   "metadata": {},
   "outputs": [],
   "source": [
    "# Your code here: load the data of the system B\n",
    "path = \"ex2-system-b.csv\"\n",
    "dataset_b = pd.read_csv(path, sep=\";\", index_col=False, names=[\"0\", \"1\", \"2\", \"3\", \"4\", \"5\", \"6\", \"7\", \"8\", \"9\", \"y_true\"])\n",
    "class_names = [\"0\", \"1\", \"2\", \"3\", \"4\", \"5\", \"6\", \"7\", \"8\", \"9\"]\n",
    "nb_classes = len(class_names)"
   ]
  },
  {
   "cell_type": "code",
   "execution_count": 141,
   "id": "4ae5fc3e",
   "metadata": {},
   "outputs": [],
   "source": [
    "# find confusion matrix for B\n",
    "y_true_b = dataset_b['y_true']\n",
    "y_pred_b = bayes_classification(dataset_b,nb_classes,class_names)\n",
    "cm_b = confusion_matrix(y_true_b,y_pred_b,nb_classes)"
   ]
  },
  {
   "cell_type": "code",
   "execution_count": 142,
   "id": "050091b9",
   "metadata": {},
   "outputs": [],
   "source": [
    "def system_accuracy(cm):\n",
    "    \"\"\"\n",
    "    Compute the system accuracy.\n",
    "        \n",
    "    Parameters\n",
    "    ----------\n",
    "    cm : Numpy array of shape (n_classes, n_classes)\n",
    "         Confusion matrix.\n",
    "         \n",
    "    Returns\n",
    "    -------\n",
    "    accuracy : Float\n",
    "               Accuracy of the system.\n",
    "    \"\"\"\n",
    "    Tp = np.diag(cm)\n",
    "    Fp = cm.sum(axis=0) - np.diag(cm) \n",
    "    Fn = cm.sum(axis=1) - np.diag(cm)\n",
    "    Tn = cm.values.sum() - (Fp + Fn + Tp)\n",
    "    N = np.sum(cm.to_numpy())\n",
    "    accuracy = (Tp + Tn)/N\n",
    "    return accuracy"
   ]
  },
  {
   "cell_type": "code",
   "execution_count": 143,
   "id": "adc0f138",
   "metadata": {},
   "outputs": [],
   "source": [
    "def system_f1_score(cm):\n",
    "    \"\"\"\n",
    "    Compute the system F1 score.\n",
    "        \n",
    "    Parameters\n",
    "    ----------\n",
    "    cm : Numpy array of shape (n_classes, n_classes)\n",
    "         Confusion matrix.\n",
    "         \n",
    "    Returns\n",
    "    -------\n",
    "    f1_score : Float\n",
    "               F1 score of the system.\n",
    "    \"\"\"\n",
    "    prec = precision_per_class(cm)\n",
    "    rec = recall_per_class(cm)\n",
    "\n",
    "    f1_score = 2*(prec*rec)/(prec+rec)\n",
    "    return f1_score"
   ]
  },
  {
   "cell_type": "code",
   "execution_count": 144,
   "id": "f1385c87",
   "metadata": {},
   "outputs": [
    {
     "name": "stdout",
     "output_type": "stream",
     "text": [
      "System A have a F1 of [0.01604278 0.0033863  0.04444444 0.06953893 0.03694779 0.03460838\n",
      " 0.04528302 0.03870968 0.05311203 0.05581761] and an accuracy of [0.8896 0.2348 0.8581 0.8769 0.8801 0.894  0.8988 0.8808 0.8859 0.7598]\n",
      "\n"
     ]
    }
   ],
   "source": [
    "# Your code here: compute and print the accuracy and the F1 score of the system A\n",
    "acc_a = system_accuracy(cm)\n",
    "F1_a = system_f1_score(cm)\n",
    "print(f\"System A have a F1 of {F1_a.to_numpy()} and an accuracy of {acc_a.to_numpy()}\\n\")"
   ]
  },
  {
   "cell_type": "code",
   "execution_count": 145,
   "id": "50c64d08",
   "metadata": {},
   "outputs": [
    {
     "name": "stdout",
     "output_type": "stream",
     "text": [
      "System A have a F1 of [0.00390244 0.00107216 0.02650177 0.01263538 0.03001876 0.0173913\n",
      " 0.01       0.0270027  0.01964637 0.01569996] and an accuracy of [0.8979 0.0683 0.8898 0.8906 0.8966 0.9096 0.901  0.8919 0.9002 0.7743]\n",
      "\n"
     ]
    }
   ],
   "source": [
    "# Your code here: compute and print the accuracy and the F1 score of the system B\n",
    "acc_b = system_accuracy(cm_b)\n",
    "F1_b = system_f1_score(cm_b)\n",
    "print(f\"System A have a F1 of {F1_b.to_numpy()} and an accuracy of {acc_b.to_numpy()}\\n\")"
   ]
  }
 ],
 "metadata": {
  "kernelspec": {
   "display_name": "Python 3",
   "language": "python",
   "name": "python3"
  },
  "language_info": {
   "codemirror_mode": {
    "name": "ipython",
    "version": 3
   },
   "file_extension": ".py",
   "mimetype": "text/x-python",
   "name": "python",
   "nbconvert_exporter": "python",
   "pygments_lexer": "ipython3",
   "version": "3.10.4"
  }
 },
 "nbformat": 4,
 "nbformat_minor": 5
}
