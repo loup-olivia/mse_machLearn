{
 "cells": [
  {
   "cell_type": "markdown",
   "id": "7f91d141",
   "metadata": {},
   "source": [
    "## Students on project\n",
    "- Liechti Matthieu\n",
    "- Loup Olivia"
   ]
  },
  {
   "cell_type": "code",
   "execution_count": 1,
   "id": "f2fea121",
   "metadata": {},
   "outputs": [],
   "source": [
    "import numpy as np\n",
    "import pandas as pd\n",
    "\n",
    "from sklearn import metrics\n",
    "from sklearn import model_selection\n",
    "from sklearn.metrics import confusion_matrix, ConfusionMatrixDisplay\n",
    "from sklearn.model_selection import train_test_split\n",
    "from sklearn.neighbors import KNeighborsClassifier\n",
    "from sklearn.preprocessing import Binarizer, LabelEncoder, MaxAbsScaler, MinMaxScaler, OneHotEncoder, \\\n",
    "    OrdinalEncoder, RobustScaler, StandardScaler"
   ]
  },
  {
   "cell_type": "markdown",
   "id": "4966e6b6",
   "metadata": {},
   "source": [
    "# Exercise 2 - Debugging - Drugs\n",
    "\n",
    "The dataset contains a set of patients, all of whom suffered from the same illness.\n",
    "During their course of treatment, each patient responded to one of 5 medications: Drug A, Drug B, Drug c, Drug x or y.\n",
    "\n",
    "This complex dataset proposes a set of challenges that you'll try to overcome. A basic ML pipeline is already in place. You have to optimize the performance of the model by applying good practices, debugging pre-processing errors, etc.\n",
    "\n",
    "**Rules**:\n",
    "- Do not use other modules than those already imported *(or do it only if your own code is not working. In this case, keep your own code in the notebook, commented, so that we know what you tried)*.\n",
    "- Explain **all** of your choices. For every task, choose the most appropriate option for this problem and describe your choice.\n",
    "- You can modify any parts of the code or replace the model by one already used in previous PWs.\n",
    "\n",
    "**Work to do**:\n",
    "- [ ] Apply a type of normalization.\n",
    "- [ ] Encode categorical data.\n",
    "- [ ] Use all columns in the dataset (or choose the most meaningful features).\n",
    "- [ ] Choose a more appropriate metric.\n",
    "- [ ] Optimize hyper-parameters.\n",
    "- [ ] Test the model performance correctly using a separated test set.\n",
    "- Apply **two** of those techniques:\n",
    "  - [ ] Keep relative class frequencies in the train/test sets (check train_test_split docs)\n",
    "  - [ ] Show which feature(s) are the most correlated to the target.\n",
    "  - [ ] Use cross-validation."
   ]
  },
  {
   "cell_type": "code",
   "execution_count": 2,
   "id": "a48ac8c5",
   "metadata": {},
   "outputs": [
    {
     "data": {
      "text/html": [
       "<div>\n",
       "<style scoped>\n",
       "    .dataframe tbody tr th:only-of-type {\n",
       "        vertical-align: middle;\n",
       "    }\n",
       "\n",
       "    .dataframe tbody tr th {\n",
       "        vertical-align: top;\n",
       "    }\n",
       "\n",
       "    .dataframe thead th {\n",
       "        text-align: right;\n",
       "    }\n",
       "</style>\n",
       "<table border=\"1\" class=\"dataframe\">\n",
       "  <thead>\n",
       "    <tr style=\"text-align: right;\">\n",
       "      <th></th>\n",
       "      <th>age</th>\n",
       "      <th>sex</th>\n",
       "      <th>bp</th>\n",
       "      <th>cholesterol</th>\n",
       "      <th>Na_to_K</th>\n",
       "      <th>drug</th>\n",
       "    </tr>\n",
       "  </thead>\n",
       "  <tbody>\n",
       "    <tr>\n",
       "      <th>0</th>\n",
       "      <td>23</td>\n",
       "      <td>F</td>\n",
       "      <td>HIGH</td>\n",
       "      <td>HIGH</td>\n",
       "      <td>25.355</td>\n",
       "      <td>drugY</td>\n",
       "    </tr>\n",
       "    <tr>\n",
       "      <th>1</th>\n",
       "      <td>47</td>\n",
       "      <td>M</td>\n",
       "      <td>LOW</td>\n",
       "      <td>HIGH</td>\n",
       "      <td>13.093</td>\n",
       "      <td>drugC</td>\n",
       "    </tr>\n",
       "    <tr>\n",
       "      <th>2</th>\n",
       "      <td>47</td>\n",
       "      <td>M</td>\n",
       "      <td>LOW</td>\n",
       "      <td>HIGH</td>\n",
       "      <td>10.114</td>\n",
       "      <td>drugC</td>\n",
       "    </tr>\n",
       "    <tr>\n",
       "      <th>3</th>\n",
       "      <td>28</td>\n",
       "      <td>F</td>\n",
       "      <td>NORMAL</td>\n",
       "      <td>HIGH</td>\n",
       "      <td>7.798</td>\n",
       "      <td>drugX</td>\n",
       "    </tr>\n",
       "    <tr>\n",
       "      <th>4</th>\n",
       "      <td>61</td>\n",
       "      <td>F</td>\n",
       "      <td>LOW</td>\n",
       "      <td>HIGH</td>\n",
       "      <td>18.043</td>\n",
       "      <td>drugY</td>\n",
       "    </tr>\n",
       "  </tbody>\n",
       "</table>\n",
       "</div>"
      ],
      "text/plain": [
       "   age sex      bp cholesterol  Na_to_K   drug\n",
       "0   23   F    HIGH        HIGH   25.355  drugY\n",
       "1   47   M     LOW        HIGH   13.093  drugC\n",
       "2   47   M     LOW        HIGH   10.114  drugC\n",
       "3   28   F  NORMAL        HIGH    7.798  drugX\n",
       "4   61   F     LOW        HIGH   18.043  drugY"
      ]
     },
     "execution_count": 2,
     "metadata": {},
     "output_type": "execute_result"
    }
   ],
   "source": [
    "df = pd.read_csv(\"drug.csv\")\n",
    "df.head()"
   ]
  },
  {
   "cell_type": "code",
   "execution_count": 3,
   "id": "784c9327",
   "metadata": {},
   "outputs": [
    {
     "name": "stdout",
     "output_type": "stream",
     "text": [
      "<class 'pandas.core.frame.DataFrame'>\n",
      "RangeIndex: 200 entries, 0 to 199\n",
      "Data columns (total 6 columns):\n",
      " #   Column       Non-Null Count  Dtype  \n",
      "---  ------       --------------  -----  \n",
      " 0   age          200 non-null    int64  \n",
      " 1   sex          200 non-null    object \n",
      " 2   bp           200 non-null    object \n",
      " 3   cholesterol  200 non-null    object \n",
      " 4   Na_to_K      200 non-null    float64\n",
      " 5   drug         200 non-null    object \n",
      "dtypes: float64(1), int64(1), object(4)\n",
      "memory usage: 9.5+ KB\n"
     ]
    }
   ],
   "source": [
    "df.info()"
   ]
  },
  {
   "cell_type": "code",
   "execution_count": 4,
   "id": "c1e3beb0",
   "metadata": {},
   "outputs": [
    {
     "data": {
      "image/png": "[encoded data removed]",
      "text/plain": [
       "<Figure size 640x480 with 2 Axes>"
      ]
     },
     "metadata": {},
     "output_type": "display_data"
    },
    {
     "data": {
      "image/png": "[encoded data removed]",
      "text/plain": [
       "<Figure size 1000x500 with 3 Axes>"
      ]
     },
     "metadata": {},
     "output_type": "display_data"
    }
   ],
   "source": [
    "import matplotlib.pyplot as plt\n",
    "categorical_columns = [\"sex\", \"bp\", \"cholesterol\"]\n",
    "# Check values in data to define how to normalize and encode\n",
    "plt.figure()\n",
    "plt.subplot(1,2,1)\n",
    "plt.hist(df['age'],bins='auto')\n",
    "plt.title('Age of patient')\n",
    "plt.subplot(1,2,2)\n",
    "plt.hist(df['Na_to_K'],bins='auto')\n",
    "plt.title('Na to K')\n",
    "plt.figure(figsize=(10,5))\n",
    "for i in range(3):\n",
    "    plt.subplot(1,3,i+1)\n",
    "    plt.hist(df[categorical_columns[i]],bins='auto')\n",
    "    plt.title(categorical_columns[i])"
   ]
  },
  {
   "cell_type": "markdown",
   "id": "b37b1815",
   "metadata": {},
   "source": [
    "**Age of patient**\\\n",
    "No outliers with min and max knows : *Min-max resacling*\\\n",
    "**Na to K**\\\n",
    "Not a lot of outliers : *z-norm*\\\n",
    "**Encode categorical class**\\\n",
    "The vocabulary are low level and not a lot of word : *Hot 1*"
   ]
  },
  {
   "cell_type": "code",
   "execution_count": 5,
   "id": "97abc96a",
   "metadata": {},
   "outputs": [
    {
     "name": "stderr",
     "output_type": "stream",
     "text": [
      "c:\\Users\\olivi\\master\\machlearn\\.venv\\lib\\site-packages\\sklearn\\preprocessing\\_encoders.py:975: FutureWarning: `sparse` was renamed to `sparse_output` in version 1.2 and will be removed in 1.4. `sparse_output` is ignored unless you leave `sparse` to its default value.\n",
      "  warnings.warn(\n"
     ]
    },
    {
     "data": {
      "text/html": [
       "<div>\n",
       "<style scoped>\n",
       "    .dataframe tbody tr th:only-of-type {\n",
       "        vertical-align: middle;\n",
       "    }\n",
       "\n",
       "    .dataframe tbody tr th {\n",
       "        vertical-align: top;\n",
       "    }\n",
       "\n",
       "    .dataframe thead th {\n",
       "        text-align: right;\n",
       "    }\n",
       "</style>\n",
       "<table border=\"1\" class=\"dataframe\">\n",
       "  <thead>\n",
       "    <tr style=\"text-align: right;\">\n",
       "      <th></th>\n",
       "      <th>age</th>\n",
       "      <th>Na_to_K</th>\n",
       "      <th>drug</th>\n",
       "      <th>sex_F</th>\n",
       "      <th>sex_M</th>\n",
       "      <th>bp_HIGH</th>\n",
       "      <th>bp_LOW</th>\n",
       "      <th>bp_NORMAL</th>\n",
       "      <th>cholesterol_HIGH</th>\n",
       "      <th>cholesterol_NORMAL</th>\n",
       "    </tr>\n",
       "  </thead>\n",
       "  <tbody>\n",
       "    <tr>\n",
       "      <th>0</th>\n",
       "      <td>23</td>\n",
       "      <td>25.355</td>\n",
       "      <td>drugY</td>\n",
       "      <td>1.0</td>\n",
       "      <td>0.0</td>\n",
       "      <td>1.0</td>\n",
       "      <td>0.0</td>\n",
       "      <td>0.0</td>\n",
       "      <td>1.0</td>\n",
       "      <td>0.0</td>\n",
       "    </tr>\n",
       "    <tr>\n",
       "      <th>1</th>\n",
       "      <td>47</td>\n",
       "      <td>13.093</td>\n",
       "      <td>drugC</td>\n",
       "      <td>0.0</td>\n",
       "      <td>1.0</td>\n",
       "      <td>0.0</td>\n",
       "      <td>1.0</td>\n",
       "      <td>0.0</td>\n",
       "      <td>1.0</td>\n",
       "      <td>0.0</td>\n",
       "    </tr>\n",
       "    <tr>\n",
       "      <th>2</th>\n",
       "      <td>47</td>\n",
       "      <td>10.114</td>\n",
       "      <td>drugC</td>\n",
       "      <td>0.0</td>\n",
       "      <td>1.0</td>\n",
       "      <td>0.0</td>\n",
       "      <td>1.0</td>\n",
       "      <td>0.0</td>\n",
       "      <td>1.0</td>\n",
       "      <td>0.0</td>\n",
       "    </tr>\n",
       "    <tr>\n",
       "      <th>3</th>\n",
       "      <td>28</td>\n",
       "      <td>7.798</td>\n",
       "      <td>drugX</td>\n",
       "      <td>1.0</td>\n",
       "      <td>0.0</td>\n",
       "      <td>0.0</td>\n",
       "      <td>0.0</td>\n",
       "      <td>1.0</td>\n",
       "      <td>1.0</td>\n",
       "      <td>0.0</td>\n",
       "    </tr>\n",
       "    <tr>\n",
       "      <th>4</th>\n",
       "      <td>61</td>\n",
       "      <td>18.043</td>\n",
       "      <td>drugY</td>\n",
       "      <td>1.0</td>\n",
       "      <td>0.0</td>\n",
       "      <td>0.0</td>\n",
       "      <td>1.0</td>\n",
       "      <td>0.0</td>\n",
       "      <td>1.0</td>\n",
       "      <td>0.0</td>\n",
       "    </tr>\n",
       "  </tbody>\n",
       "</table>\n",
       "</div>"
      ],
      "text/plain": [
       "   age  Na_to_K   drug  sex_F  sex_M  bp_HIGH  bp_LOW  bp_NORMAL  \\\n",
       "0   23   25.355  drugY    1.0    0.0      1.0     0.0        0.0   \n",
       "1   47   13.093  drugC    0.0    1.0      0.0     1.0        0.0   \n",
       "2   47   10.114  drugC    0.0    1.0      0.0     1.0        0.0   \n",
       "3   28    7.798  drugX    1.0    0.0      0.0     0.0        1.0   \n",
       "4   61   18.043  drugY    1.0    0.0      0.0     1.0        0.0   \n",
       "\n",
       "   cholesterol_HIGH  cholesterol_NORMAL  \n",
       "0               1.0                 0.0  \n",
       "1               1.0                 0.0  \n",
       "2               1.0                 0.0  \n",
       "3               1.0                 0.0  \n",
       "4               1.0                 0.0  "
      ]
     },
     "execution_count": 5,
     "metadata": {},
     "output_type": "execute_result"
    }
   ],
   "source": [
    "categorical_columns = [\"sex\", \"bp\", \"cholesterol\"]\n",
    "\n",
    "# TODO: you will replace this by a more adapted preprocessing step\n",
    "#Encode word\n",
    "enc = OneHotEncoder(sparse=False)\n",
    "wd_enc = enc.fit_transform(df[categorical_columns])\n",
    "# Convert the result back into a dataframe and add column names\n",
    "one_hot_df = pd.DataFrame(wd_enc, columns=enc.get_feature_names_out(categorical_columns))\n",
    "# Drop the original categorical columns from original df, and merge the new one-hot columns\n",
    "data = df.drop(categorical_columns, axis=1)\n",
    "data = pd.concat([data, one_hot_df], axis=1)\n",
    "data.head()\n"
   ]
  },
  {
   "cell_type": "code",
   "execution_count": 6,
   "id": "b05d0efb",
   "metadata": {},
   "outputs": [],
   "source": [
    "# Normalize number\n",
    "#df = df.drop(columns=[\"sex\", \"bp\", \"cholesterol\"])\n",
    "data['age'] = MinMaxScaler().fit_transform(df[['age']])\n",
    "\n",
    "data['Na_to_K']  =StandardScaler().fit_transform(df[['Na_to_K'] ])"
   ]
  },
  {
   "cell_type": "code",
   "execution_count": 7,
   "id": "477b861b",
   "metadata": {},
   "outputs": [
    {
     "data": {
      "text/html": [
       "<div>\n",
       "<style scoped>\n",
       "    .dataframe tbody tr th:only-of-type {\n",
       "        vertical-align: middle;\n",
       "    }\n",
       "\n",
       "    .dataframe tbody tr th {\n",
       "        vertical-align: top;\n",
       "    }\n",
       "\n",
       "    .dataframe thead th {\n",
       "        text-align: right;\n",
       "    }\n",
       "</style>\n",
       "<table border=\"1\" class=\"dataframe\">\n",
       "  <thead>\n",
       "    <tr style=\"text-align: right;\">\n",
       "      <th></th>\n",
       "      <th>age</th>\n",
       "      <th>Na_to_K</th>\n",
       "      <th>sex_F</th>\n",
       "      <th>sex_M</th>\n",
       "      <th>bp_HIGH</th>\n",
       "      <th>bp_LOW</th>\n",
       "      <th>bp_NORMAL</th>\n",
       "      <th>cholesterol_HIGH</th>\n",
       "      <th>cholesterol_NORMAL</th>\n",
       "    </tr>\n",
       "  </thead>\n",
       "  <tbody>\n",
       "    <tr>\n",
       "      <th>0</th>\n",
       "      <td>0.135593</td>\n",
       "      <td>1.286522</td>\n",
       "      <td>1.0</td>\n",
       "      <td>0.0</td>\n",
       "      <td>1.0</td>\n",
       "      <td>0.0</td>\n",
       "      <td>0.0</td>\n",
       "      <td>1.0</td>\n",
       "      <td>0.0</td>\n",
       "    </tr>\n",
       "    <tr>\n",
       "      <th>1</th>\n",
       "      <td>0.542373</td>\n",
       "      <td>-0.415145</td>\n",
       "      <td>0.0</td>\n",
       "      <td>1.0</td>\n",
       "      <td>0.0</td>\n",
       "      <td>1.0</td>\n",
       "      <td>0.0</td>\n",
       "      <td>1.0</td>\n",
       "      <td>0.0</td>\n",
       "    </tr>\n",
       "    <tr>\n",
       "      <th>2</th>\n",
       "      <td>0.542373</td>\n",
       "      <td>-0.828558</td>\n",
       "      <td>0.0</td>\n",
       "      <td>1.0</td>\n",
       "      <td>0.0</td>\n",
       "      <td>1.0</td>\n",
       "      <td>0.0</td>\n",
       "      <td>1.0</td>\n",
       "      <td>0.0</td>\n",
       "    </tr>\n",
       "    <tr>\n",
       "      <th>3</th>\n",
       "      <td>0.220339</td>\n",
       "      <td>-1.149963</td>\n",
       "      <td>1.0</td>\n",
       "      <td>0.0</td>\n",
       "      <td>0.0</td>\n",
       "      <td>0.0</td>\n",
       "      <td>1.0</td>\n",
       "      <td>1.0</td>\n",
       "      <td>0.0</td>\n",
       "    </tr>\n",
       "    <tr>\n",
       "      <th>4</th>\n",
       "      <td>0.779661</td>\n",
       "      <td>0.271794</td>\n",
       "      <td>1.0</td>\n",
       "      <td>0.0</td>\n",
       "      <td>0.0</td>\n",
       "      <td>1.0</td>\n",
       "      <td>0.0</td>\n",
       "      <td>1.0</td>\n",
       "      <td>0.0</td>\n",
       "    </tr>\n",
       "  </tbody>\n",
       "</table>\n",
       "</div>"
      ],
      "text/plain": [
       "        age   Na_to_K  sex_F  sex_M  bp_HIGH  bp_LOW  bp_NORMAL  \\\n",
       "0  0.135593  1.286522    1.0    0.0      1.0     0.0        0.0   \n",
       "1  0.542373 -0.415145    0.0    1.0      0.0     1.0        0.0   \n",
       "2  0.542373 -0.828558    0.0    1.0      0.0     1.0        0.0   \n",
       "3  0.220339 -1.149963    1.0    0.0      0.0     0.0        1.0   \n",
       "4  0.779661  0.271794    1.0    0.0      0.0     1.0        0.0   \n",
       "\n",
       "   cholesterol_HIGH  cholesterol_NORMAL  \n",
       "0               1.0                 0.0  \n",
       "1               1.0                 0.0  \n",
       "2               1.0                 0.0  \n",
       "3               1.0                 0.0  \n",
       "4               1.0                 0.0  "
      ]
     },
     "execution_count": 7,
     "metadata": {},
     "output_type": "execute_result"
    }
   ],
   "source": [
    "X = data.drop(columns=\"drug\")\n",
    "y = data[\"drug\"]\n",
    "X.head()"
   ]
  },
  {
   "cell_type": "code",
   "execution_count": 8,
   "id": "bd623588",
   "metadata": {},
   "outputs": [],
   "source": [
    "# split data in 80% (test & validation set) & 20%\n",
    "X_train_temp, X_test, y_train_temp, y_test = train_test_split(X, y, test_size=0.2, random_state=42)\n",
    "# split data in 80% & 20% -> reality 60% (train set), 20% (validation set) & 20% (test set)\n",
    "X_train, X_val, y_train, y_val = train_test_split(X_train_temp, y_train_temp, test_size=0.2, random_state=42)\n"
   ]
  },
  {
   "cell_type": "markdown",
   "id": "37904250",
   "metadata": {},
   "source": [
    "**Hyperparameter**:\\\n",
    "In knn they have 3 hyperparamters :\n",
    "- Nbr neighbors\n",
    "- Weight\n",
    "- p\n",
    "\n",
    "to define these values, we need to compare F1 of the train set and validation set after modification of hyperparamteres"
   ]
  },
  {
   "cell_type": "code",
   "execution_count": 9,
   "id": "b850aac8",
   "metadata": {},
   "outputs": [
    {
     "name": "stdout",
     "output_type": "stream",
     "text": [
      "Best param :{'n_neighbors': 11, 'weights': 'distance', 'p_distance': 2}\n"
     ]
    }
   ],
   "source": [
    "# TODO: a preprocessing step is likely missing here...\n",
    "\n",
    "hParam = {\n",
    "    \"n_neighbors\": [2, 5, 8, 11],\n",
    "    \"weights\": [\"uniform\", \"distance\"],\n",
    "    \"p_distance\": [1, 2]\n",
    "    }\n",
    "F1_best  = 0\n",
    "best_param = {}\n",
    "knn = KNeighborsClassifier()\n",
    "knn.fit(X_train, y_train)\n",
    "# F1 on train set \n",
    "y_pred = knn.predict(X_train)\n",
    "F1_train = metrics.f1_score(y_train,y_pred,average='weighted')\n",
    "for n in hParam[\"n_neighbors\"]:\n",
    "    for w in hParam[\"weights\"]:\n",
    "        for p in hParam[\"p_distance\"]:\n",
    "            #def new parameter\n",
    "            knn = KNeighborsClassifier(n_neighbors=n,weights=w,p=p)\n",
    "            knn.fit(X_val, y_val)\n",
    "            \n",
    "            # F1 on validation set \n",
    "            y_pred = knn.predict(X_val)\n",
    "            F1_val = metrics.f1_score(y_val,y_pred,average='weighted')\n",
    "            \n",
    "            # verifiy if better \n",
    "            if F1_val > F1_train:\n",
    "                F1_best = F1_val\n",
    "                best_param = {\n",
    "                    \"n_neighbors\": n,\n",
    "                    \"weights\": w,\n",
    "                    \"p_distance\": p}\n",
    "                \n",
    "print(f'Best param :{best_param}')"
   ]
  },
  {
   "cell_type": "code",
   "execution_count": 10,
   "id": "3d756636",
   "metadata": {},
   "outputs": [
    {
     "data": {
      "text/html": [
       "<style>#sk-container-id-1 {color: black;}#sk-container-id-1 pre{padding: 0;}#sk-container-id-1 div.sk-toggleable {background-color: white;}#sk-container-id-1 label.sk-toggleable__label {cursor: pointer;display: block;width: 100%;margin-bottom: 0;padding: 0.3em;box-sizing: border-box;text-align: center;}#sk-container-id-1 label.sk-toggleable__label-arrow:before {content: \"▸\";float: left;margin-right: 0.25em;color: #696969;}#sk-container-id-1 label.sk-toggleable__label-arrow:hover:before {color: black;}#sk-container-id-1 div.sk-estimator:hover label.sk-toggleable__label-arrow:before {color: black;}#sk-container-id-1 div.sk-toggleable__content {max-height: 0;max-width: 0;overflow: hidden;text-align: left;background-color: #f0f8ff;}#sk-container-id-1 div.sk-toggleable__content pre {margin: 0.2em;color: black;border-radius: 0.25em;background-color: #f0f8ff;}#sk-container-id-1 input.sk-toggleable__control:checked~div.sk-toggleable__content {max-height: 200px;max-width: 100%;overflow: auto;}#sk-container-id-1 input.sk-toggleable__control:checked~label.sk-toggleable__label-arrow:before {content: \"▾\";}#sk-container-id-1 div.sk-estimator input.sk-toggleable__control:checked~label.sk-toggleable__label {background-color: #d4ebff;}#sk-container-id-1 div.sk-label input.sk-toggleable__control:checked~label.sk-toggleable__label {background-color: #d4ebff;}#sk-container-id-1 input.sk-hidden--visually {border: 0;clip: rect(1px 1px 1px 1px);clip: rect(1px, 1px, 1px, 1px);height: 1px;margin: -1px;overflow: hidden;padding: 0;position: absolute;width: 1px;}#sk-container-id-1 div.sk-estimator {font-family: monospace;background-color: #f0f8ff;border: 1px dotted black;border-radius: 0.25em;box-sizing: border-box;margin-bottom: 0.5em;}#sk-container-id-1 div.sk-estimator:hover {background-color: #d4ebff;}#sk-container-id-1 div.sk-parallel-item::after {content: \"\";width: 100%;border-bottom: 1px solid gray;flex-grow: 1;}#sk-container-id-1 div.sk-label:hover label.sk-toggleable__label {background-color: #d4ebff;}#sk-container-id-1 div.sk-serial::before {content: \"\";position: absolute;border-left: 1px solid gray;box-sizing: border-box;top: 0;bottom: 0;left: 50%;z-index: 0;}#sk-container-id-1 div.sk-serial {display: flex;flex-direction: column;align-items: center;background-color: white;padding-right: 0.2em;padding-left: 0.2em;position: relative;}#sk-container-id-1 div.sk-item {position: relative;z-index: 1;}#sk-container-id-1 div.sk-parallel {display: flex;align-items: stretch;justify-content: center;background-color: white;position: relative;}#sk-container-id-1 div.sk-item::before, #sk-container-id-1 div.sk-parallel-item::before {content: \"\";position: absolute;border-left: 1px solid gray;box-sizing: border-box;top: 0;bottom: 0;left: 50%;z-index: -1;}#sk-container-id-1 div.sk-parallel-item {display: flex;flex-direction: column;z-index: 1;position: relative;background-color: white;}#sk-container-id-1 div.sk-parallel-item:first-child::after {align-self: flex-end;width: 50%;}#sk-container-id-1 div.sk-parallel-item:last-child::after {align-self: flex-start;width: 50%;}#sk-container-id-1 div.sk-parallel-item:only-child::after {width: 0;}#sk-container-id-1 div.sk-dashed-wrapped {border: 1px dashed gray;margin: 0 0.4em 0.5em 0.4em;box-sizing: border-box;padding-bottom: 0.4em;background-color: white;}#sk-container-id-1 div.sk-label label {font-family: monospace;font-weight: bold;display: inline-block;line-height: 1.2em;}#sk-container-id-1 div.sk-label-container {text-align: center;}#sk-container-id-1 div.sk-container {/* jupyter's `normalize.less` sets `[hidden] { display: none; }` but bootstrap.min.css set `[hidden] { display: none !important; }` so we also need the `!important` here to be able to override the default hidden behavior on the sphinx rendered scikit-learn.org. See: https://github.com/scikit-learn/scikit-learn/issues/21755 */display: inline-block !important;position: relative;}#sk-container-id-1 div.sk-text-repr-fallback {display: none;}</style><div id=\"sk-container-id-1\" class=\"sk-top-container\"><div class=\"sk-text-repr-fallback\"><pre>KNeighborsClassifier(n_neighbors=11, weights=&#x27;distance&#x27;)</pre><b>In a Jupyter environment, please rerun this cell to show the HTML representation or trust the notebook. <br />On GitHub, the HTML representation is unable to render, please try loading this page with nbviewer.org.</b></div><div class=\"sk-container\" hidden><div class=\"sk-item\"><div class=\"sk-estimator sk-toggleable\"><input class=\"sk-toggleable__control sk-hidden--visually\" id=\"sk-estimator-id-1\" type=\"checkbox\" checked><label for=\"sk-estimator-id-1\" class=\"sk-toggleable__label sk-toggleable__label-arrow\">KNeighborsClassifier</label><div class=\"sk-toggleable__content\"><pre>KNeighborsClassifier(n_neighbors=11, weights=&#x27;distance&#x27;)</pre></div></div></div></div></div>"
      ],
      "text/plain": [
       "KNeighborsClassifier(n_neighbors=11, weights='distance')"
      ]
     },
     "execution_count": 10,
     "metadata": {},
     "output_type": "execute_result"
    }
   ],
   "source": [
    "#use best parameter to the project\n",
    "n = best_param['n_neighbors']\n",
    "w = best_param['weights']\n",
    "p = best_param['p_distance']\n",
    "knn = KNeighborsClassifier(n_neighbors=n,weights=w,p=p)\n",
    "knn.fit(X_test, y_test)"
   ]
  },
  {
   "cell_type": "markdown",
   "id": "80ad6350",
   "metadata": {},
   "source": [
    "**Metric**:\\\n",
    "The best choice seem to show F1 to see recall and precisison too.\\"
   ]
  },
  {
   "cell_type": "code",
   "execution_count": 11,
   "id": "fb6f6f11",
   "metadata": {},
   "outputs": [],
   "source": [
    "def predict(estimator, X, y):\n",
    "    # predict\n",
    "    y_pred = estimator.predict(X)\n",
    "    \n",
    "    # show confusion matrix\n",
    "    cm = confusion_matrix(y, y_pred)\n",
    "    disp=ConfusionMatrixDisplay(confusion_matrix=cm, display_labels=estimator.classes_)\n",
    "    disp.plot();\n",
    "    \n",
    "    # check metric (this one is probably not the best choice...)\n",
    "    accuracy = metrics.accuracy_score(y, y_pred)\n",
    "    metric = metrics.f1_score(y,y_pred,average='weighted')\n",
    "    \n",
    "    print(f\"F1-score: {metric}, accuracy = {accuracy}\")"
   ]
  },
  {
   "cell_type": "code",
   "execution_count": 12,
   "id": "614da747",
   "metadata": {},
   "outputs": [
    {
     "name": "stdout",
     "output_type": "stream",
     "text": [
      "F1-score: 1.0, accuracy = 1.0\n"
     ]
    },
    {
     "data": {
      "image/png": "[encoded data removed]",
      "text/plain": [
       "<Figure size 640x480 with 2 Axes>"
      ]
     },
     "metadata": {},
     "output_type": "display_data"
    }
   ],
   "source": [
    "predict(knn, X_test, y_test)"
   ]
  },
  {
   "cell_type": "code",
   "execution_count": 13,
   "id": "75bd0b70",
   "metadata": {},
   "outputs": [],
   "source": [
    "# TODO: any of the 3 proposed task..."
   ]
  },
  {
   "cell_type": "markdown",
   "id": "d50544f6",
   "metadata": {},
   "source": [
    "**Two technique:**\\\n",
    "The results are satisfied and use cross-validation to find best hyperparameters.\n",
    "We will test to find the most correlate feature."
   ]
  },
  {
   "cell_type": "code",
   "execution_count": 14,
   "id": "e71f9fd7",
   "metadata": {},
   "outputs": [],
   "source": [
    "# Take the basic data\n",
    "X_base = data.drop(columns=\"drug\")\n",
    "y = data[\"drug\"]"
   ]
  },
  {
   "cell_type": "code",
   "execution_count": 15,
   "id": "ba6cc6ce",
   "metadata": {},
   "outputs": [
    {
     "data": {
      "text/html": [
       "<style>#sk-container-id-2 {color: black;}#sk-container-id-2 pre{padding: 0;}#sk-container-id-2 div.sk-toggleable {background-color: white;}#sk-container-id-2 label.sk-toggleable__label {cursor: pointer;display: block;width: 100%;margin-bottom: 0;padding: 0.3em;box-sizing: border-box;text-align: center;}#sk-container-id-2 label.sk-toggleable__label-arrow:before {content: \"▸\";float: left;margin-right: 0.25em;color: #696969;}#sk-container-id-2 label.sk-toggleable__label-arrow:hover:before {color: black;}#sk-container-id-2 div.sk-estimator:hover label.sk-toggleable__label-arrow:before {color: black;}#sk-container-id-2 div.sk-toggleable__content {max-height: 0;max-width: 0;overflow: hidden;text-align: left;background-color: #f0f8ff;}#sk-container-id-2 div.sk-toggleable__content pre {margin: 0.2em;color: black;border-radius: 0.25em;background-color: #f0f8ff;}#sk-container-id-2 input.sk-toggleable__control:checked~div.sk-toggleable__content {max-height: 200px;max-width: 100%;overflow: auto;}#sk-container-id-2 input.sk-toggleable__control:checked~label.sk-toggleable__label-arrow:before {content: \"▾\";}#sk-container-id-2 div.sk-estimator input.sk-toggleable__control:checked~label.sk-toggleable__label {background-color: #d4ebff;}#sk-container-id-2 div.sk-label input.sk-toggleable__control:checked~label.sk-toggleable__label {background-color: #d4ebff;}#sk-container-id-2 input.sk-hidden--visually {border: 0;clip: rect(1px 1px 1px 1px);clip: rect(1px, 1px, 1px, 1px);height: 1px;margin: -1px;overflow: hidden;padding: 0;position: absolute;width: 1px;}#sk-container-id-2 div.sk-estimator {font-family: monospace;background-color: #f0f8ff;border: 1px dotted black;border-radius: 0.25em;box-sizing: border-box;margin-bottom: 0.5em;}#sk-container-id-2 div.sk-estimator:hover {background-color: #d4ebff;}#sk-container-id-2 div.sk-parallel-item::after {content: \"\";width: 100%;border-bottom: 1px solid gray;flex-grow: 1;}#sk-container-id-2 div.sk-label:hover label.sk-toggleable__label {background-color: #d4ebff;}#sk-container-id-2 div.sk-serial::before {content: \"\";position: absolute;border-left: 1px solid gray;box-sizing: border-box;top: 0;bottom: 0;left: 50%;z-index: 0;}#sk-container-id-2 div.sk-serial {display: flex;flex-direction: column;align-items: center;background-color: white;padding-right: 0.2em;padding-left: 0.2em;position: relative;}#sk-container-id-2 div.sk-item {position: relative;z-index: 1;}#sk-container-id-2 div.sk-parallel {display: flex;align-items: stretch;justify-content: center;background-color: white;position: relative;}#sk-container-id-2 div.sk-item::before, #sk-container-id-2 div.sk-parallel-item::before {content: \"\";position: absolute;border-left: 1px solid gray;box-sizing: border-box;top: 0;bottom: 0;left: 50%;z-index: -1;}#sk-container-id-2 div.sk-parallel-item {display: flex;flex-direction: column;z-index: 1;position: relative;background-color: white;}#sk-container-id-2 div.sk-parallel-item:first-child::after {align-self: flex-end;width: 50%;}#sk-container-id-2 div.sk-parallel-item:last-child::after {align-self: flex-start;width: 50%;}#sk-container-id-2 div.sk-parallel-item:only-child::after {width: 0;}#sk-container-id-2 div.sk-dashed-wrapped {border: 1px dashed gray;margin: 0 0.4em 0.5em 0.4em;box-sizing: border-box;padding-bottom: 0.4em;background-color: white;}#sk-container-id-2 div.sk-label label {font-family: monospace;font-weight: bold;display: inline-block;line-height: 1.2em;}#sk-container-id-2 div.sk-label-container {text-align: center;}#sk-container-id-2 div.sk-container {/* jupyter's `normalize.less` sets `[hidden] { display: none; }` but bootstrap.min.css set `[hidden] { display: none !important; }` so we also need the `!important` here to be able to override the default hidden behavior on the sphinx rendered scikit-learn.org. See: https://github.com/scikit-learn/scikit-learn/issues/21755 */display: inline-block !important;position: relative;}#sk-container-id-2 div.sk-text-repr-fallback {display: none;}</style><div id=\"sk-container-id-2\" class=\"sk-top-container\"><div class=\"sk-text-repr-fallback\"><pre>KNeighborsClassifier()</pre><b>In a Jupyter environment, please rerun this cell to show the HTML representation or trust the notebook. <br />On GitHub, the HTML representation is unable to render, please try loading this page with nbviewer.org.</b></div><div class=\"sk-container\" hidden><div class=\"sk-item\"><div class=\"sk-estimator sk-toggleable\"><input class=\"sk-toggleable__control sk-hidden--visually\" id=\"sk-estimator-id-2\" type=\"checkbox\" checked><label for=\"sk-estimator-id-2\" class=\"sk-toggleable__label sk-toggleable__label-arrow\">KNeighborsClassifier</label><div class=\"sk-toggleable__content\"><pre>KNeighborsClassifier()</pre></div></div></div></div></div>"
      ],
      "text/plain": [
       "KNeighborsClassifier()"
      ]
     },
     "execution_count": 15,
     "metadata": {},
     "output_type": "execute_result"
    }
   ],
   "source": [
    "hParam = {\n",
    "    \"n_neighbors\": [2, 5, 8, 11],\n",
    "    \"weights\": [\"uniform\", \"distance\"],\n",
    "    \"p_distance\": [1, 2]\n",
    "    }\n",
    "F1_best  = 0\n",
    "best_param = {}\n",
    "knn = KNeighborsClassifier()\n",
    "knn.fit(X_train, y_train)"
   ]
  },
  {
   "cell_type": "code",
   "execution_count": 16,
   "id": "329067ae",
   "metadata": {},
   "outputs": [
    {
     "name": "stdout",
     "output_type": "stream",
     "text": [
      "Best feature could ne drop \"cholesterol_NORMAL\", best param {'n_neighbors': 11, 'weights': 'distance', 'p_distance': 2}\n"
     ]
    }
   ],
   "source": [
    "# F1 on train set \n",
    "y_pred_train = knn.predict(X_train)\n",
    "F1_train = metrics.f1_score(y_train,y_pred_train,average='weighted')\n",
    "# Remove on feature and test wit cross-correlation whuch one is better\n",
    "for c in X.columns:\n",
    "    X = X_base.drop(columns = c)\n",
    "    # split data in 80% (test & validation set) & 20%\n",
    "    X_train_temp, X_test, y_train_temp, y_test = train_test_split(X, y, test_size=0.2, random_state=42)\n",
    "    # split data in 80% & 20% -> reality 60% (train set), 20% (validation set) & 20% (test set)\n",
    "    X_train, X_val, y_train, y_val = train_test_split(X_train_temp, y_train_temp, test_size=0.2, random_state=42)\n",
    "    for n in hParam[\"n_neighbors\"]:\n",
    "        for w in hParam[\"weights\"]:\n",
    "            for p in hParam[\"p_distance\"]:\n",
    "                #def new parameter\n",
    "                knn = KNeighborsClassifier(n_neighbors=n,weights=w,p=p)\n",
    "                knn.fit(X_val, y_val)\n",
    "                \n",
    "                # F1 on validation set \n",
    "                y_pred = knn.predict(X_val)\n",
    "                F1_val = metrics.f1_score(y_val,y_pred,average='weighted')\n",
    "                # verifiy if better \n",
    "                if F1_val > F1_train:\n",
    "                    F1_best = F1_val\n",
    "                    data_drop = c\n",
    "                    best_param = {\n",
    "                        \"n_neighbors\": n,\n",
    "                        \"weights\": w,\n",
    "                        \"p_distance\": p}\n",
    "                    \n",
    "print(f'Best feature could ne drop \"{data_drop}\", best param {best_param}')"
   ]
  },
  {
   "cell_type": "code",
   "execution_count": 17,
   "id": "c66c99ab",
   "metadata": {},
   "outputs": [
    {
     "name": "stdout",
     "output_type": "stream",
     "text": [
      "F1-score: 0.5954166666666667, accuracy = 0.65\n"
     ]
    },
    {
     "data": {
      "image/png": "[encoded data removed]",
      "text/plain": [
       "<Figure size 640x480 with 2 Axes>"
      ]
     },
     "metadata": {},
     "output_type": "display_data"
    }
   ],
   "source": [
    "predict(knn, X_test, y_test)"
   ]
  },
  {
   "cell_type": "markdown",
   "id": "50933616",
   "metadata": {},
   "source": [
    "### Result\n",
    "Remove a feature can't help."
   ]
  }
 ],
 "metadata": {
  "kernelspec": {
   "display_name": ".venv",
   "language": "python",
   "name": "python3"
  },
  "language_info": {
   "codemirror_mode": {
    "name": "ipython",
    "version": 3
   },
   "file_extension": ".py",
   "mimetype": "text/x-python",
   "name": "python",
   "nbconvert_exporter": "python",
   "pygments_lexer": "ipython3",
   "version": "3.8.10"
  }
 },
 "nbformat": 4,
 "nbformat_minor": 5
}
