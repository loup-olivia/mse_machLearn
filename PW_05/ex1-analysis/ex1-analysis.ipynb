{
 "cells": [
  {
   "cell_type": "markdown",
   "id": "d3332edb",
   "metadata": {},
   "source": [
    "## Students on project\n",
    "- Liechti Matthieu\n",
    "- Loup Olivia"
   ]
  },
  {
   "cell_type": "markdown",
   "id": "33b31583",
   "metadata": {},
   "source": [
    "# Exercise 1 - Analysis"
   ]
  },
  {
   "cell_type": "markdown",
   "id": "51225f27",
   "metadata": {},
   "source": [
    "The bank UBS is offering to its client the possibility to invest money in funds. See https://fundgate.ubs.com/. There are thousands of investment funds available. Clients, according to their profile, will be more or less inclined to invest in a given fund, according to the fund characteristics. For example, a younger client with no child is potentially more interested into funds composed with stocks, showing higher risks but also higher potential returns. A family father will be more inclined to invest into low-risk funds. UBS want to build a system taking as input a set of values characterizing the fund and a set of values defining the client profile.\n",
    "\n",
    "An investment fund can be characterized by the following elements: \n",
    "\n",
    "- The name of the fund.\n",
    "- The current value of 1 share in the fund, expressed in CHF.\n",
    "- The proportion of stock and bonds composing the fund (2 values in percentage).\n",
    "- A vector of float values with the 5 last yearly returns over years from 2015 to 2019 (5 values expressed in percentage).\n",
    "- A level of risk expressed with A, B, C, D, E with A representing the highest risk and E representing the lowest risk level.\n",
    "- A sectorial information such as technology, pharmaceutical, financial. There are 24 different sectors available in UBS funds.\n",
    "\n",
    "A client profile contains the following information: \n",
    "\n",
    "- First name and last name of the client.\n",
    "- The mother tongue of the client (mostly de, fr, it and en but other languages are present).\n",
    "- The age of the client.\n",
    "- The number of children of the client.\n",
    "- The current wealth of the client that could be used to buy funds, expressed in CHF (total of cash available in the different accounts, not yet invested in funds).\n",
    "- The postal code of the address of the client.\n",
    "- A level of acceptance to risk expressed with A, B, C, D, E with A representing the highest level of acceptance of risk and E representing the lowest acceptance of risk.\n",
    "\n",
    "Answer the following questions:\n",
    "\n",
    "1. For each available information in the fund and client profile, explain how you would prepare the data: encoding, normalization, outlier treatment, etc.\n",
    "2. How could you collect targets (output of the system) to train the system? How would you prepare the different sets?\n",
    "\n",
    "**Be as comprehensive as possible.** Imagine that you give your analysis to your trainee: he must be able to implement the system from it."
   ]
  },
  {
   "cell_type": "markdown",
   "id": "7cb6b792",
   "metadata": {},
   "source": [
    "---"
   ]
  },
  {
   "cell_type": "markdown",
   "id": "16f4c4b4",
   "metadata": {},
   "source": [
    "**For each available information in the fund and client profile, explain how you would prepare the data: encoding, normalization, outlier treatment, etc.**"
   ]
  },
  {
   "cell_type": "markdown",
   "id": "e1527821",
   "metadata": {},
   "source": [
    "### Encode\n",
    "In every word/char data we need to separate depend of theses parameters :\n",
    "- Word/char with not a lot of vocabulary : Hot-1/nominal case\n",
    "- If order is important : ordinal case\n",
    "- If have a lot of vocabulary : word emmbedding\n",
    "#### Biais\n",
    "In this case, used name of client could create some biais. It's maybe to critic to use theses informations.\n",
    "### Normalisation and outlier treatment\n",
    "In every numerical case, It will usefull to display an histogram to see if they have outliers.\n",
    "- If they don't have outliser or a lot : Min-max rescaling\n",
    "- If they have few outliers :Z-norm\n",
    "- If they have a data with big tail of possibilities : log-norm\n",
    "\n",
    "### Speration of data\n",
    "**Important** : the treatment on numerical values are supposition, we need to check before with an histogram. For some values, the knowing are to few so the value could be '-'.\\\n",
    "fund :\n",
    "|class|numeric/word|info|\n",
    "|-|-|-|\n",
    "|The name |w|Hot-1|\n",
    "|The current value of 1|n|Z-norm|\n",
    "|The proportion of stock|n|Min-max rescaling|\n",
    "|A vector of float values|n|Z-norm|\n",
    "|A level of risk expressed|w|ordinal case|\n",
    "|A sectorial information |w|nominal case|\n",
    "\n",
    "client:\n",
    "|class|numeric/word|info|\n",
    "|-|-|-|\n",
    "|First name and last name|w|not use -> biais|\n",
    "|The mother tongue|w|nominal case|\n",
    "|The age |n|Min-max rescaling|\n",
    "|The number of children |n|Z-norm|\n",
    "|The current wealth |n|Min-max rescaling|\n",
    "|The postal code|n|Log scaling|\n",
    "|A level of acceptance|w|ordinal case|"
   ]
  },
  {
   "cell_type": "markdown",
   "id": "c386d8fc",
   "metadata": {},
   "source": [
    "**How could you collect targets (output of the system) to train the system? How would you prepare the different sets?**"
   ]
  },
  {
   "cell_type": "markdown",
   "id": "0ec9e135",
   "metadata": {},
   "source": [
    "TODO: answer"
   ]
  }
 ],
 "metadata": {
  "kernelspec": {
   "display_name": "Python 3 (ipykernel)",
   "language": "python",
   "name": "python3"
  },
  "language_info": {
   "codemirror_mode": {
    "name": "ipython",
    "version": 3
   },
   "file_extension": ".py",
   "mimetype": "text/x-python",
   "name": "python",
   "nbconvert_exporter": "python",
   "pygments_lexer": "ipython3",
   "version": "3.8.7"
  }
 },
 "nbformat": 4,
 "nbformat_minor": 5
}
