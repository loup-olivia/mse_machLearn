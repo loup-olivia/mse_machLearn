{
 "cells": [
  {
   "cell_type": "markdown",
   "id": "ef898c15",
   "metadata": {},
   "source": [
    "Liechti Matthieu, Loup Olivia"
   ]
  },
  {
   "cell_type": "markdown",
   "id": "beb723b7",
   "metadata": {},
   "source": [
    "# Exercice 1 - Digit classification system using different SVM classifiers"
   ]
  },
  {
   "cell_type": "markdown",
   "id": "a28d1610",
   "metadata": {},
   "source": [
    "## Imports"
   ]
  },
  {
   "cell_type": "code",
   "execution_count": 75,
   "id": "6c1ce1ab",
   "metadata": {},
   "outputs": [],
   "source": [
    "import gzip\n",
    "import _pickle as cPickle\n",
    "\n",
    "# Add your imports here\n",
    "import numpy as np\n",
    "import matplotlib.pyplot as plt\n",
    "import pandas as pd\n",
    "from sklearn import svm"
   ]
  },
  {
   "cell_type": "markdown",
   "id": "ef20c5b1",
   "metadata": {},
   "source": [
    "## Exercise's steps"
   ]
  },
  {
   "cell_type": "markdown",
   "id": "c76dc85b",
   "metadata": {},
   "source": [
    "The objective of this exercise is to build a classification system able to classify the images of handwritten digits (0–9) coming from the MNIST database and using SVM with different types of kernels (linear, polynomial, RBF, ...). For that purpose, you will use the SVM library available in [_Scikit-learn_](http://scikit-learn.org)."
   ]
  },
  {
   "cell_type": "markdown",
   "id": "07c7a34c",
   "metadata": {},
   "source": [
    "### a. Getting the training and test sample sets from the MNIST database"
   ]
  },
  {
   "cell_type": "markdown",
   "id": "c4d2bc77",
   "metadata": {},
   "source": [
    "#### a) Load MNIST digit dataset"
   ]
  },
  {
   "cell_type": "code",
   "execution_count": 76,
   "id": "709e53fb",
   "metadata": {},
   "outputs": [
    {
     "name": "stdout",
     "output_type": "stream",
     "text": [
      "Training set: 50000\n",
      "Validation set: 10000\n",
      "Test set: 10000\n"
     ]
    }
   ],
   "source": [
    "# Load training, validation (not used in the PW) and test datasets\n",
    "with gzip.open(\"mnist.pkl.gz\", \"rb\") as f:\n",
    "    train_set, valid_set, test_set = cPickle.load(f, encoding=\"latin1\")\n",
    "\n",
    "# Print the shape of the various datasets\n",
    "print(\"Training set:\", len(train_set[0]))\n",
    "print(\"Validation set:\", len(valid_set[0]))\n",
    "print(\"Test set:\", len(test_set[0]))"
   ]
  },
  {
   "cell_type": "code",
   "execution_count": 77,
   "id": "223ac758",
   "metadata": {},
   "outputs": [
    {
     "name": "stdout",
     "output_type": "stream",
     "text": [
      "[5 0 4 ... 8 4 8]\n"
     ]
    }
   ],
   "source": [
    "X_train = train_set[0][:]\n",
    "y_train = train_set[1][:]\n",
    "\n",
    "X_val = valid_set[0][:]\n",
    "y_val = valid_set[1][:]\n",
    "\n",
    "X_test = test_set[0][:]\n",
    "y_test = test_set[1][:]\n",
    "print(train_set[1][:])"
   ]
  },
  {
   "cell_type": "markdown",
   "id": "d6e4195f",
   "metadata": {},
   "source": [
    "#### b) Visualize (plot) the images of some digits of the MNIST database"
   ]
  },
  {
   "cell_type": "code",
   "execution_count": 78,
   "id": "ca577454",
   "metadata": {},
   "outputs": [
    {
     "data": {
      "image/png": "[encoded data removed]",
      "text/plain": [
       "<Figure size 640x480 with 1 Axes>"
      ]
     },
     "metadata": {},
     "output_type": "display_data"
    }
   ],
   "source": [
    "# Your code here\n",
    "def displayDigits(X):\n",
    "    # displays 2D data stored in X in a nice grid.\n",
    "    # Input:\n",
    "    # - X : [m x n] data set of hadwritten digits\n",
    "    # Output:\n",
    "    # -\n",
    "    \n",
    "    m,n = X.shape\n",
    "    ex_width = np.round(np.sqrt(n)).astype('int')\n",
    "    ex_height = (n/ex_width).astype('int')\n",
    "\n",
    "    disp_rows = np.floor(np.sqrt(m)).astype('int')\n",
    "    disp_cols = np.ceil(m/disp_rows).astype('int')\n",
    "\n",
    "    pad = 1\n",
    "    \n",
    "    # Insert in display_array the samples from X\n",
    "    display_array = - np.ones((pad+disp_rows*(ex_height+pad),pad+disp_cols*(ex_width+pad)))\n",
    "    curr_ex = 0\n",
    "    for j in range(0,disp_rows):\n",
    "        for i in range(0,disp_cols):\n",
    "            if curr_ex > m-1 :\n",
    "                break\n",
    "            XcurrEx =  X[[curr_ex],:]\n",
    "            max_val = np.max(np.abs(XcurrEx))\n",
    "            rowstart = pad+(j)*(ex_height+pad)\n",
    "            rowend   = pad+(j)*(ex_height+pad) + (ex_height)\n",
    "            colstart = pad+(i)*(ex_width+pad)\n",
    "            colend   = pad+(i)*(ex_width+pad) + (ex_width)\n",
    "            display_array[rowstart:rowend,colstart:colend] = np.reshape(XcurrEx,(ex_height,ex_width)).T/max_val\n",
    "\n",
    "            curr_ex +=1\n",
    "\n",
    "    plt.imshow(display_array,cmap = 'gray',vmin = -1,vmax = 1)\n",
    "    plt.axis('off')\n",
    "nSel = 12   \n",
    "m = X_train.shape[0]\n",
    "rand_idx = np.random.permutation(m)\n",
    "Xsel = X_train[rand_idx[:nSel],:]\n",
    "displayDigits(Xsel)    "
   ]
  },
  {
   "cell_type": "markdown",
   "id": "39ec94ff",
   "metadata": {},
   "source": [
    "#### c) Build the final training and test sets, which should be balanced"
   ]
  },
  {
   "cell_type": "code",
   "execution_count": 79,
   "id": "f1f294ce",
   "metadata": {},
   "outputs": [],
   "source": [
    "# Your code here\n",
    "# data\n",
    "nSel_valid = 200\n",
    "nSel_test = 100   \n",
    "m_val = X_val.shape[0]\n",
    "m_test = X_test.shape[0]\n",
    "rand_idx = np.random.permutation(m_val)\n",
    "Xsel = X_val[rand_idx[:nSel_valid],:]\n",
    "ysel = y_val[rand_idx[:nSel_valid]]\n"
   ]
  },
  {
   "cell_type": "code",
   "execution_count": 80,
   "id": "e6bbc993",
   "metadata": {},
   "outputs": [
    {
     "name": "stdout",
     "output_type": "stream",
     "text": [
      "Simple SVM Pred = 81.17%\n",
      "Linear SVM Pred = 80.67999999999999%\n",
      "Polynomial SVM Pred = 72.26%\n",
      "RBF SVM Pred = 81.17%\n",
      "Sigmoid SVM Pred = 81.17%\n",
      "Precomputed SVM Pred = 81.17%\n"
     ]
    }
   ],
   "source": [
    "# basic test\n",
    "clf = svm.SVC()\n",
    "clf.fit(Xsel, ysel)\n",
    "y_pred1 = clf.predict(X_test)\n",
    "print(f\"Simple SVM Pred = {np.mean(y_pred1 == y_test) * 100}%\")\n",
    "# linear\n",
    "lin_clf = svm.SVC(kernel='linear')\n",
    "lin_clf.fit(Xsel, ysel)\n",
    "y_pred_lin = lin_clf.predict(X_test)\n",
    "print(f\"Linear SVM Pred = {np.mean(y_pred_lin == y_test) * 100}%\")\n",
    "# polynomial\n",
    "poly_svc = svm.SVC(kernel='poly')\n",
    "poly_svc.fit(Xsel, ysel)\n",
    "y_pred_poly = poly_svc.predict(X_test)\n",
    "print(f\"Polynomial SVM Pred = {np.mean(y_pred_poly == y_test) * 100}%\")\n",
    "# RBF\n",
    "rbf_svc = svm.SVC(kernel='rbf')\n",
    "rbf_svc.fit(Xsel, ysel)\n",
    "y_pred_rbf = rbf_svc.predict(X_test)\n",
    "print(f\"RBF SVM Pred = {np.mean(y_pred_rbf == y_test) * 100}%\")\n",
    "# sigmoid\n",
    "sigmoid_svc = svm.SVC(kernel='sigmoid')\n",
    "sigmoid_svc.fit(Xsel, ysel)\n",
    "y_pred_sigmoid = rbf_svc.predict(X_test)\n",
    "print(f\"Sigmoid SVM Pred = {np.mean(y_pred_sigmoid == y_test) * 100}%\")\n",
    "# precomputed\n",
    "precomputed_svc = svm.SVC(kernel='precomputed')\n",
    "gram_train = np.dot(Xsel, Xsel.T)\n",
    "precomputed_svc.fit(gram_train, ysel)\n",
    "y_pred_precomputed = rbf_svc.predict(X_test)\n",
    "print(f\"Precomputed SVM Pred = {np.mean(y_pred_precomputed == y_test) * 100}%\")"
   ]
  },
  {
   "cell_type": "code",
   "execution_count": 94,
   "id": "d9bab473",
   "metadata": {},
   "outputs": [
    {
     "name": "stdout",
     "output_type": "stream",
     "text": [
      "RBF SVM Pred = 91.86999999999999%\n"
     ]
    }
   ],
   "source": [
    "# new data\n",
    "nSel_valid = 1000\n",
    "nSel_test = 500 \n",
    "m_val = X_val.shape[0]\n",
    "m_test = X_test.shape[0]\n",
    "rand_idx = np.random.permutation(m_val)\n",
    "Xsel = X_val[rand_idx[:nSel_valid],:]\n",
    "ysel = y_val[rand_idx[:nSel_valid]]\n",
    "\n",
    "# RBF\n",
    "rbf_svc = svm.SVC(kernel='rbf')\n",
    "rbf_svc.fit(Xsel, ysel)\n",
    "y_pred_rbf = rbf_svc.predict(X_test)\n",
    "print(f\"RBF SVM Pred = {np.mean(y_pred_rbf == y_test) * 100}%\")"
   ]
  },
  {
   "cell_type": "markdown",
   "id": "be28cc65",
   "metadata": {},
   "source": [
    "around 800-1000 for valid set, it seem that's the limit"
   ]
  },
  {
   "cell_type": "code",
   "execution_count": null,
   "id": "9e47ef87",
   "metadata": {},
   "outputs": [
    {
     "name": "stdout",
     "output_type": "stream",
     "text": [
      "RBF SVM Pred = 88.8%\n"
     ]
    }
   ],
   "source": []
  },
  {
   "cell_type": "markdown",
   "id": "860c43d9",
   "metadata": {},
   "source": [
    "The best one are variable depend the dataset"
   ]
  },
  {
   "cell_type": "markdown",
   "id": "2e7e9543",
   "metadata": {},
   "source": [
    "### b. Classification of digits based on raw pixel values using SVM and different kernels"
   ]
  },
  {
   "cell_type": "markdown",
   "id": "5b53901f",
   "metadata": {},
   "source": [
    "Create, train and test several SVM classifiers with different kernels (linear, polynomial, RBF, ...). For the training, perform a cross-validation using 10 folds, and test different with several $C$ and kernel parameter values (e.g. for $\\gamma$ for RBF kernel) in order to get the best classifier. After the test, display the classification performances and confusion matrix of each SVM classifier (see class _metrics_)."
   ]
  },
  {
   "cell_type": "code",
   "execution_count": 81,
   "id": "4ebdc991",
   "metadata": {
    "scrolled": false
   },
   "outputs": [],
   "source": [
    "# Your code here"
   ]
  },
  {
   "cell_type": "markdown",
   "id": "ace70baf",
   "metadata": {},
   "source": [
    "### c. (Optional) Impact of preprocessing and feature extraction"
   ]
  },
  {
   "cell_type": "markdown",
   "id": "aa9ffb23",
   "metadata": {},
   "source": [
    "Analyse the impact of the classification performances using the following preprocessing and feature extraction steps:"
   ]
  },
  {
   "cell_type": "markdown",
   "id": "a04e4645",
   "metadata": {},
   "source": [
    "#### a) Preprocessing step: convert images to binary (i.e. black and white) representations "
   ]
  },
  {
   "cell_type": "code",
   "execution_count": 82,
   "id": "3e4c0b00",
   "metadata": {
    "scrolled": false
   },
   "outputs": [],
   "source": [
    "# Your code here"
   ]
  },
  {
   "cell_type": "markdown",
   "id": "11354cdc",
   "metadata": {},
   "source": [
    "#### b) Feature extraction steps:\n",
    "* Horizontal and vertical projections (i.e. compute the sum of grey pixel values along the the X and Y-axis)\n",
    "* Local binary patterns\n",
    "* Any other usable image features that you may have found"
   ]
  },
  {
   "cell_type": "code",
   "execution_count": 83,
   "id": "38d41dfe",
   "metadata": {},
   "outputs": [],
   "source": [
    "# Your code here"
   ]
  },
  {
   "cell_type": "markdown",
   "id": "728272e0",
   "metadata": {},
   "source": [
    "### d. Analysis of the results"
   ]
  },
  {
   "cell_type": "markdown",
   "id": "495b5dc0",
   "metadata": {},
   "source": [
    "Analyse the results obtained with the best SVM classifier."
   ]
  },
  {
   "cell_type": "markdown",
   "id": "0351139a",
   "metadata": {},
   "source": [
    "a) Which kernel and parameters were used?"
   ]
  },
  {
   "cell_type": "markdown",
   "id": "8019f76f",
   "metadata": {},
   "source": [
    "_Your answer here_"
   ]
  },
  {
   "cell_type": "markdown",
   "id": "e850ab33",
   "metadata": {},
   "source": [
    "b) Which digit classes are the best/worse recognized against which? Why?"
   ]
  },
  {
   "cell_type": "markdown",
   "id": "7b22ec44",
   "metadata": {},
   "source": [
    "_Your answer here_"
   ]
  },
  {
   "cell_type": "markdown",
   "id": "768da3e9",
   "metadata": {},
   "source": [
    "c) What is the impact of the sizes of the training and test sets on the classification performance?"
   ]
  },
  {
   "cell_type": "markdown",
   "id": "b27e0e55",
   "metadata": {},
   "source": [
    "_Your answer here_"
   ]
  },
  {
   "cell_type": "code",
   "execution_count": null,
   "id": "679917f1",
   "metadata": {},
   "outputs": [],
   "source": []
  }
 ],
 "metadata": {
  "kernelspec": {
   "display_name": ".venv",
   "language": "python",
   "name": "python3"
  },
  "language_info": {
   "codemirror_mode": {
    "name": "ipython",
    "version": 3
   },
   "file_extension": ".py",
   "mimetype": "text/x-python",
   "name": "python",
   "nbconvert_exporter": "python",
   "pygments_lexer": "ipython3",
   "version": "3.8.10"
  }
 },
 "nbformat": 4,
 "nbformat_minor": 5
}
