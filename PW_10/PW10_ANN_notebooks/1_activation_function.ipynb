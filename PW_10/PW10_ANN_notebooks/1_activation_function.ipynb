{
 "cells": [
  {
   "cell_type": "markdown",
   "metadata": {},
   "source": [
    "# Activation functions\n",
    "Activation functions are essential to artificial neural networks. They are used to compute the output of artificial neurons and therefore, the output of the network.\n",
    "Activation functions must be differentiable if network parameters are found using a learning algorithm like backpropagation.\n",
    "\n",
    "This notebook shows some examples of activation functions, and how their shape change with respect to the weight of the connections between neurons."
   ]
  },
  {
   "cell_type": "markdown",
   "metadata": {},
   "source": [
    "## Loading the packages"
   ]
  },
  {
   "cell_type": "code",
   "execution_count": 1,
   "metadata": {},
   "outputs": [],
   "source": [
    "import numpy as np\n",
    "import matplotlib.pyplot as pl\n",
    "from ipywidgets import interact, widgets\n",
    "\n",
    "%matplotlib inline"
   ]
  },
  {
   "cell_type": "markdown",
   "metadata": {},
   "source": [
    "## Definition of some activation functions"
   ]
  },
  {
   "cell_type": "markdown",
   "metadata": {},
   "source": [
    "Linear\n",
    "$$output = neta$$\n",
    "\n",
    "Sigmoid\n",
    "$$output = \\frac {1}{1 + e^{-neta}}$$\n",
    "\n",
    "Hyperbolic tangent\n",
    "$$output = \\frac {e^{neta} - e^{-neta}}{e^{neta} + e^{-neta}}$$\n",
    "\n",
    "ReLu\n",
    "$$output=max(0,neta)$$\n"
   ]
  },
  {
   "cell_type": "code",
   "execution_count": 2,
   "metadata": {},
   "outputs": [],
   "source": [
    "def linear(neta):\n",
    "    '''Linear activation function'''\n",
    "    output = neta\n",
    "    d_output = np.ones(len(neta))\n",
    "    return (output, d_output)\n",
    "\n",
    "def sigmoid(neta):\n",
    "    '''Sigmoidal activation function'''\n",
    "    output = 1 / (1 + np.exp(-neta))\n",
    "    d_output = output * (1 - output)\n",
    "    return (output, d_output)\n",
    "\n",
    "def htan(neta):\n",
    "    '''Hyperbolic tangent activation function'''\n",
    "    exp = np.exp(neta)\n",
    "    m_exp = np.exp(-neta)\n",
    "    output = (exp - m_exp ) / (exp + m_exp)\n",
    "    d_output = 1 - (output * output)\n",
    "    return (output, d_output)\n",
    "\n",
    "def relu(neta):\n",
    "    '''Rectified Linear Unit (ReLU) activation function'''\n",
    "    output = np.maximum(0, neta)\n",
    "    d_output = np.where(neta > 0, 1, 0)\n",
    "    return (output, d_output)\n",
    "\n",
    "\n",
    "activation_functions_dict = {'Linear': linear, 'Sigmoid': sigmoid, 'Hyperbolic tangent': htan, 'Relu':relu}"
   ]
  },
  {
   "cell_type": "markdown",
   "metadata": {},
   "source": [
    "## Functions to plot the activation function"
   ]
  },
  {
   "cell_type": "code",
   "execution_count": 3,
   "metadata": {},
   "outputs": [],
   "source": [
    "input_values = np.arange(-10, 10, 0.01)\n",
    "\n",
    "def plot_activation_function(activation_function_index, weight):\n",
    "    neta = weight * input_values\n",
    "    \n",
    "    activation_function = activation_functions_dict.get(list(activation_functions_dict.keys())[activation_function_index])\n",
    "    output_value, d_output_value = activation_function(neta)\n",
    "    \n",
    "    pl.figure(figsize=(8,6))\n",
    "    pl.plot(input_values, output_value, label='output')\n",
    "    pl.plot(input_values, weight * d_output_value, c='r', label='first derivative')\n",
    "    pl.xlabel('Input value')\n",
    "    pl.ylabel('Output value')\n",
    "    pl.ylim(-1.1, 1.1)\n",
    "    #pl.xlim(-1.1, 1.1)\n",
    "    pl.legend(loc=4)\n",
    "    pl.grid()"
   ]
  },
  {
   "cell_type": "code",
   "execution_count": 4,
   "metadata": {},
   "outputs": [],
   "source": [
    "weight_slider = widgets.FloatSlider(\n",
    "    value=1.0,\n",
    "    min=-2.0,\n",
    "    max=2.0,\n",
    "    step=0.01,\n",
    "    description='Weight',\n",
    ")\n",
    "activation_function_list = widgets.Dropdown(\n",
    "    options={k:i for i,k in enumerate(activation_functions_dict.keys())},\n",
    "    value=1,\n",
    "    description='Activation function',\n",
    ")"
   ]
  },
  {
   "cell_type": "markdown",
   "metadata": {},
   "source": [
    "## Plot the activation functions"
   ]
  },
  {
   "cell_type": "code",
   "execution_count": 5,
   "metadata": {},
   "outputs": [
    {
     "data": {
      "application/vnd.jupyter.widget-view+json": {
       "model_id": "52e9ceedc9a0489581df460ddb8afcd1",
       "version_major": 2,
       "version_minor": 0
      },
      "text/plain": [
       "interactive(children=(Dropdown(description='Activation function', index=1, options={'Linear': 0, 'Sigmoid': 1,…"
      ]
     },
     "metadata": {},
     "output_type": "display_data"
    }
   ],
   "source": [
    "interact(plot_activation_function, activation_function_index=activation_function_list, weight=weight_slider);"
   ]
  },
  {
   "cell_type": "markdown",
   "metadata": {},
   "source": [
    "## Exercise"
   ]
  },
  {
   "cell_type": "markdown",
   "metadata": {},
   "source": [
    "- Observe the shape of the different activation functions proposed.\n",
    "\n",
    "- Observe the effects of modifying the weight. How the shape of the function changes? How the first derivative changes?"
   ]
  }
 ],
 "metadata": {
  "kernelspec": {
   "display_name": "Python 3 (ipykernel)",
   "language": "python",
   "name": "python3"
  },
  "language_info": {
   "codemirror_mode": {
    "name": "ipython",
    "version": 3
   },
   "file_extension": ".py",
   "mimetype": "text/x-python",
   "name": "python",
   "nbconvert_exporter": "python",
   "pygments_lexer": "ipython3",
   "version": "3.10.15"
  },
  "widgets": {
   "application/vnd.jupyter.widget-state+json": {
    "state": {
     "4a32bd1f56074928ac0318c381bbeb2e": {
      "model_module": "@jupyter-widgets/controls",
      "model_module_version": "2.0.0",
      "model_name": "FloatSliderModel",
      "state": {
       "behavior": "drag-tap",
       "description": "Weight",
       "layout": "IPY_MODEL_56b25c250f9f4949a4383c34557ce122",
       "max": 2,
       "min": -2,
       "step": 0.01,
       "style": "IPY_MODEL_e9ea378d38d84eb58ed6b18684970056",
       "value": 1
      }
     },
     "52e9ceedc9a0489581df460ddb8afcd1": {
      "model_module": "@jupyter-widgets/controls",
      "model_module_version": "2.0.0",
      "model_name": "VBoxModel",
      "state": {
       "_dom_classes": [
        "widget-interact"
       ],
       "children": [
        "IPY_MODEL_9910422e438446ad9142b3f8484518f9",
        "IPY_MODEL_4a32bd1f56074928ac0318c381bbeb2e",
        "IPY_MODEL_70c8ebb8f878447c9b98b6c175fc261d"
       ],
       "layout": "IPY_MODEL_f67c319cac45441cbf44ee6d5ec56be1"
      }
     },
     "56b25c250f9f4949a4383c34557ce122": {
      "model_module": "@jupyter-widgets/base",
      "model_module_version": "2.0.0",
      "model_name": "LayoutModel",
      "state": {}
     },
     "70c8ebb8f878447c9b98b6c175fc261d": {
      "model_module": "@jupyter-widgets/output",
      "model_module_version": "1.0.0",
      "model_name": "OutputModel",
      "state": {
       "layout": "IPY_MODEL_995757c52d72449eba7df835fe1bc7e5",
       "outputs": [
        {
         "data": {
          "image/png": "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",
          "text/plain": "<Figure size 800x600 with 1 Axes>"
         },
         "metadata": {},
         "output_type": "display_data"
        }
       ]
      }
     },
     "9910422e438446ad9142b3f8484518f9": {
      "model_module": "@jupyter-widgets/controls",
      "model_module_version": "2.0.0",
      "model_name": "DropdownModel",
      "state": {
       "_options_labels": [
        "Linear",
        "Sigmoid",
        "Hyperbolic tangent",
        "Relu"
       ],
       "description": "Activation function",
       "index": 1,
       "layout": "IPY_MODEL_d730744eb120468393cf4ea19898e91f",
       "style": "IPY_MODEL_d8a46ba816f543e9957a8aab51773630"
      }
     },
     "995757c52d72449eba7df835fe1bc7e5": {
      "model_module": "@jupyter-widgets/base",
      "model_module_version": "2.0.0",
      "model_name": "LayoutModel",
      "state": {}
     },
     "d730744eb120468393cf4ea19898e91f": {
      "model_module": "@jupyter-widgets/base",
      "model_module_version": "2.0.0",
      "model_name": "LayoutModel",
      "state": {}
     },
     "d8a46ba816f543e9957a8aab51773630": {
      "model_module": "@jupyter-widgets/controls",
      "model_module_version": "2.0.0",
      "model_name": "DescriptionStyleModel",
      "state": {
       "description_width": ""
      }
     },
     "e9ea378d38d84eb58ed6b18684970056": {
      "model_module": "@jupyter-widgets/controls",
      "model_module_version": "2.0.0",
      "model_name": "SliderStyleModel",
      "state": {
       "description_width": ""
      }
     },
     "f67c319cac45441cbf44ee6d5ec56be1": {
      "model_module": "@jupyter-widgets/base",
      "model_module_version": "2.0.0",
      "model_name": "LayoutModel",
      "state": {}
     }
    },
    "version_major": 2,
    "version_minor": 0
   }
  }
 },
 "nbformat": 4,
 "nbformat_minor": 4
}
