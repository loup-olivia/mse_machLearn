{
 "cells": [
  {
   "cell_type": "markdown",
   "metadata": {},
   "source": [
    "# Perceptron\n",
    "Perceptrons are the building blocks of the most common type of artificial neural network: the Multi-Layer Perceptron. In this notebook you will explore how the output of a perceptron changes with respect to its inputs for different activation functions and different weight connections."
   ]
  },
  {
   "cell_type": "markdown",
   "metadata": {},
   "source": [
    "# Loading the packages"
   ]
  },
  {
   "cell_type": "code",
   "execution_count": 1,
   "metadata": {},
   "outputs": [],
   "source": [
    "import numpy as np\n",
    "import matplotlib.pyplot as pl\n",
    "from ipywidgets import interact, widgets\n",
    "\n",
    "%matplotlib inline"
   ]
  },
  {
   "cell_type": "markdown",
   "metadata": {},
   "source": [
    "# Definition of some activation functions"
   ]
  },
  {
   "cell_type": "markdown",
   "metadata": {},
   "source": [
    "Linear\n",
    "$$output = neta$$\n",
    "\n",
    "Sigmoid\n",
    "$$output = \\frac {1}{1 + e^{-neta}}$$\n",
    "\n",
    "Hyperbolic tangent\n",
    "$$output = \\frac {e^{neta} - e^{-neta}}{e^{neta} + e^{-neta}}$$\n",
    "\n",
    "Gaussian\n",
    "$$output = e^{-neta^{2}}$$"
   ]
  },
  {
   "cell_type": "code",
   "execution_count": 2,
   "metadata": {},
   "outputs": [],
   "source": [
    "def linear(neta):\n",
    "    '''Linear activation function'''\n",
    "    output = neta\n",
    "    return output\n",
    "\n",
    "def sigmoid(neta):\n",
    "    '''Sigmoidal activation function'''\n",
    "    output = 1 / (1 + np.exp(-neta))\n",
    "    return output\n",
    "\n",
    "def htan(neta):\n",
    "    '''Hyperbolic activation function'''\n",
    "    exp = np.exp(neta)\n",
    "    m_exp = np.exp(-neta)\n",
    "    output = (exp - m_exp ) / (exp + m_exp)\n",
    "    return output\n",
    "\n",
    "def relu(neta):\n",
    "    '''Rectified Linear Unit (ReLU) activation function'''\n",
    "    output = np.maximum(0, neta)\n",
    "    d_output = np.where(neta > 0, 1, 0)\n",
    "    return output\n",
    "\n",
    "activation_functions_dict = {'Linear': linear, 'Sigmoid': sigmoid, 'Hyperbolic tangent': htan, 'ReLu': relu}"
   ]
  },
  {
   "cell_type": "markdown",
   "metadata": {},
   "source": [
    "## Perceptron"
   ]
  },
  {
   "cell_type": "raw",
   "metadata": {},
   "source": [
    "            ______________\n",
    "           /              \\\n",
    "x __w_x__ j                l \n",
    "  _______ | f_act(I.W + b) |----- output\n",
    "y   w_y   l                j\n",
    "           \\______________/\n",
    "Where:\n",
    "x = input x\n",
    "y = input y\n",
    "b = bias\n",
    "f_act = activation function\n",
    "I = vector of inputs\n",
    "W = vector of weights"
   ]
  },
  {
   "cell_type": "markdown",
   "metadata": {},
   "source": [
    "$$output = f\\_act(\\sum_{i=0}^{1}{(I_{i} * W_{i})} + b)$$"
   ]
  },
  {
   "cell_type": "code",
   "execution_count": 3,
   "metadata": {},
   "outputs": [],
   "source": [
    "def perceptron(input_values, weights, bias, activation_function):\n",
    "    '''Computes the output of a perceptron\n",
    "    :param input_values: inputs to the perceptron\n",
    "    :param weights: perceptron parameters (multiply inputs)\n",
    "    :param bias: perceptron parameter (adds to inputs)\n",
    "    :param activation_function: activation function to apply to the weighted sum of inputs\n",
    "    :return: perceptron output'''\n",
    "    neta = np.dot(input_values, weights) + bias\n",
    "    output = activation_function(neta)\n",
    "    return output"
   ]
  },
  {
   "cell_type": "markdown",
   "metadata": {},
   "source": [
    "## Functions to plot the Perceptron output"
   ]
  },
  {
   "cell_type": "code",
   "execution_count": 4,
   "metadata": {},
   "outputs": [],
   "source": [
    "input_x = np.arange(-1.2, 1.2, 0.1)\n",
    "input_y = np.arange(-1.2, 1.2, 0.1)\n",
    "\n",
    "input_x_matrix, input_y_matrix = np.meshgrid(input_x, input_y)\n",
    "inputs_xy = np.concatenate((input_x_matrix.flatten()[:,np.newaxis], input_y_matrix.flatten()[:,np.newaxis]), axis=1)\n",
    "\n",
    "def plot_perceptron(weight_x, weight_y, bias, activation_function_index):\n",
    "    weights = np.array([weight_x, weight_y])\n",
    "    \n",
    "    activation_function = activation_functions_dict.get(list(activation_functions_dict.keys())[activation_function_index])\n",
    "    output_values = perceptron(inputs_xy, weights, bias, activation_function)\n",
    "    \n",
    "    output_matrix = np.reshape(output_values, input_x_matrix.shape)\n",
    "    \n",
    "    pl.figure(figsize=(8,6))\n",
    "    pl.imshow(np.flipud(output_matrix), interpolation='None', extent=(-1.2,1.2,-1.2,1.2), vmin=-1.0, vmax=1.0)\n",
    "    pl.xlabel('x')\n",
    "    pl.ylabel('y')\n",
    "    pl.colorbar()\n",
    "    pl.grid()"
   ]
  },
  {
   "cell_type": "code",
   "execution_count": 5,
   "metadata": {},
   "outputs": [],
   "source": [
    "def create_controls():\n",
    "    weight_x_slider = widgets.FloatSlider(\n",
    "        value=0.5,\n",
    "        min=-1.0,\n",
    "        max=1.0,\n",
    "        step=0.01,\n",
    "        description='Weight x:',\n",
    "    )\n",
    "    weight_y_slider = widgets.FloatSlider(\n",
    "        value=0.5,\n",
    "        min=-1.0,\n",
    "        max=1.0,\n",
    "        step=0.01,\n",
    "        description='Weight y:',\n",
    "    )\n",
    "    bias_slider = widgets.FloatSlider(\n",
    "        value=0.0,\n",
    "        min=-1.0,\n",
    "        max=1.0,\n",
    "        step=0.01,\n",
    "        description='Bias:',\n",
    "    )\n",
    "    activation_function_list = widgets.Dropdown(\n",
    "    options={k:i for i,k in enumerate(activation_functions_dict.keys())},\n",
    "        value=1,\n",
    "        description='Activation function:',\n",
    "    )\n",
    "    return {'weight_x':weight_x_slider, 'weight_y':weight_y_slider, 'bias':bias_slider, 'activation_function_index':activation_function_list}"
   ]
  },
  {
   "cell_type": "markdown",
   "metadata": {},
   "source": [
    "## Plot the perceptron output"
   ]
  },
  {
   "cell_type": "code",
   "execution_count": 6,
   "metadata": {},
   "outputs": [
    {
     "data": {
      "application/vnd.jupyter.widget-view+json": {
       "model_id": "cc3cd11cc2c34099bdccdee17b84fc7b",
       "version_major": 2,
       "version_minor": 0
      },
      "text/plain": [
       "interactive(children=(FloatSlider(value=0.5, description='Weight x:', max=1.0, min=-1.0, step=0.01), FloatSlid…"
      ]
     },
     "metadata": {},
     "output_type": "display_data"
    }
   ],
   "source": [
    "controls = create_controls()\n",
    "_= interact(plot_perceptron, **controls)"
   ]
  },
  {
   "cell_type": "markdown",
   "metadata": {},
   "source": [
    "## Exercise"
   ]
  },
  {
   "cell_type": "markdown",
   "metadata": {},
   "source": [
    "- Use the sliders to change the weights of the perceptron and observe the effects on its output\n",
    "\n",
    "- Select different activation functions and observe the output of the perceptron for different weight configurations"
   ]
  }
 ],
 "metadata": {
  "kernelspec": {
   "display_name": "Python 3 (ipykernel)",
   "language": "python",
   "name": "python3"
  },
  "language_info": {
   "codemirror_mode": {
    "name": "ipython",
    "version": 3
   },
   "file_extension": ".py",
   "mimetype": "text/x-python",
   "name": "python",
   "nbconvert_exporter": "python",
   "pygments_lexer": "ipython3",
   "version": "3.10.15"
  },
  "widgets": {
   "application/vnd.jupyter.widget-state+json": {
    "state": {
     "06f8283fa0984f0ca3c4aa599cd48635": {
      "model_module": "@jupyter-widgets/base",
      "model_module_version": "2.0.0",
      "model_name": "LayoutModel",
      "state": {}
     },
     "241803bd73e04d30bf38df023ca1753e": {
      "model_module": "@jupyter-widgets/controls",
      "model_module_version": "2.0.0",
      "model_name": "DropdownModel",
      "state": {
       "_options_labels": [
        "Linear",
        "Sigmoid",
        "Hyperbolic tangent",
        "ReLu"
       ],
       "description": "Activation function:",
       "index": 1,
       "layout": "IPY_MODEL_840e7de1516f46b9aa1e91ddd075b3df",
       "style": "IPY_MODEL_6a928b2df17e4944b1465a0c781b297f"
      }
     },
     "3d275c9e54164103b8d80492839607ad": {
      "model_module": "@jupyter-widgets/output",
      "model_module_version": "1.0.0",
      "model_name": "OutputModel",
      "state": {
       "layout": "IPY_MODEL_06f8283fa0984f0ca3c4aa599cd48635",
       "outputs": [
        {
         "data": {
          "image/png": "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",
          "text/plain": "<Figure size 800x600 with 2 Axes>"
         },
         "metadata": {},
         "output_type": "display_data"
        }
       ]
      }
     },
     "5646ecd147854ea7a706110c59ddddf7": {
      "model_module": "@jupyter-widgets/controls",
      "model_module_version": "2.0.0",
      "model_name": "FloatSliderModel",
      "state": {
       "behavior": "drag-tap",
       "description": "Bias:",
       "layout": "IPY_MODEL_cd56f09acf624549ac315198a0ef59f7",
       "max": 1,
       "min": -1,
       "step": 0.01,
       "style": "IPY_MODEL_bc9e824eb21341e5bb3beccf4a6284ee"
      }
     },
     "6a928b2df17e4944b1465a0c781b297f": {
      "model_module": "@jupyter-widgets/controls",
      "model_module_version": "2.0.0",
      "model_name": "DescriptionStyleModel",
      "state": {
       "description_width": ""
      }
     },
     "7d892e962c9948279a77e9e6d4401ecd": {
      "model_module": "@jupyter-widgets/base",
      "model_module_version": "2.0.0",
      "model_name": "LayoutModel",
      "state": {}
     },
     "840e7de1516f46b9aa1e91ddd075b3df": {
      "model_module": "@jupyter-widgets/base",
      "model_module_version": "2.0.0",
      "model_name": "LayoutModel",
      "state": {}
     },
     "90f43e2e8b6f4fecad8cafbb4d1b4fdd": {
      "model_module": "@jupyter-widgets/controls",
      "model_module_version": "2.0.0",
      "model_name": "FloatSliderModel",
      "state": {
       "behavior": "drag-tap",
       "description": "Weight x:",
       "layout": "IPY_MODEL_7d892e962c9948279a77e9e6d4401ecd",
       "max": 1,
       "min": -1,
       "step": 0.01,
       "style": "IPY_MODEL_f6b65cc416ca4b3daa204ed612332d52",
       "value": 0.1100000000000001
      }
     },
     "bc9e824eb21341e5bb3beccf4a6284ee": {
      "model_module": "@jupyter-widgets/controls",
      "model_module_version": "2.0.0",
      "model_name": "SliderStyleModel",
      "state": {
       "description_width": ""
      }
     },
     "bd66ba42225f40f1a5236a6088120da6": {
      "model_module": "@jupyter-widgets/controls",
      "model_module_version": "2.0.0",
      "model_name": "SliderStyleModel",
      "state": {
       "description_width": ""
      }
     },
     "cb2c9b9135ea4bf2bf44e1b87a8baf15": {
      "model_module": "@jupyter-widgets/base",
      "model_module_version": "2.0.0",
      "model_name": "LayoutModel",
      "state": {}
     },
     "cc3cd11cc2c34099bdccdee17b84fc7b": {
      "model_module": "@jupyter-widgets/controls",
      "model_module_version": "2.0.0",
      "model_name": "VBoxModel",
      "state": {
       "_dom_classes": [
        "widget-interact"
       ],
       "children": [
        "IPY_MODEL_90f43e2e8b6f4fecad8cafbb4d1b4fdd",
        "IPY_MODEL_e0024f622a154cfabc5c44741c40a57b",
        "IPY_MODEL_5646ecd147854ea7a706110c59ddddf7",
        "IPY_MODEL_241803bd73e04d30bf38df023ca1753e",
        "IPY_MODEL_3d275c9e54164103b8d80492839607ad"
       ],
       "layout": "IPY_MODEL_cb2c9b9135ea4bf2bf44e1b87a8baf15"
      }
     },
     "cd56f09acf624549ac315198a0ef59f7": {
      "model_module": "@jupyter-widgets/base",
      "model_module_version": "2.0.0",
      "model_name": "LayoutModel",
      "state": {}
     },
     "d4f7e1b5b66f4185a03653888534c3c8": {
      "model_module": "@jupyter-widgets/base",
      "model_module_version": "2.0.0",
      "model_name": "LayoutModel",
      "state": {}
     },
     "e0024f622a154cfabc5c44741c40a57b": {
      "model_module": "@jupyter-widgets/controls",
      "model_module_version": "2.0.0",
      "model_name": "FloatSliderModel",
      "state": {
       "behavior": "drag-tap",
       "description": "Weight y:",
       "layout": "IPY_MODEL_d4f7e1b5b66f4185a03653888534c3c8",
       "max": 1,
       "min": -1,
       "step": 0.01,
       "style": "IPY_MODEL_bd66ba42225f40f1a5236a6088120da6",
       "value": 0.31000000000000005
      }
     },
     "f6b65cc416ca4b3daa204ed612332d52": {
      "model_module": "@jupyter-widgets/controls",
      "model_module_version": "2.0.0",
      "model_name": "SliderStyleModel",
      "state": {
       "description_width": ""
      }
     }
    },
    "version_major": 2,
    "version_minor": 0
   }
  }
 },
 "nbformat": 4,
 "nbformat_minor": 4
}
