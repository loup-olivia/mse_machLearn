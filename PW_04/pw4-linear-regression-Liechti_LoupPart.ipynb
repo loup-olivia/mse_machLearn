{
 "cells": [
  {
   "cell_type": "markdown",
   "id": "18bdba27",
   "metadata": {},
   "source": [
    "# PW4 - Linear Regression"
   ]
  },
  {
   "cell_type": "markdown",
   "id": "3629bfdf",
   "metadata": {},
   "source": [
    "## Imports"
   ]
  },
  {
   "cell_type": "code",
   "execution_count": 1,
   "id": "d6eb2aab",
   "metadata": {},
   "outputs": [],
   "source": [
    "import random\n",
    "import pandas as pd\n",
    "import numpy as np\n",
    "from numpy.linalg import inv\n",
    "import matplotlib.pyplot as plt"
   ]
  },
  {
   "cell_type": "markdown",
   "id": "b5278262",
   "metadata": {},
   "source": []
  },
  {
   "cell_type": "markdown",
   "id": "e69e5d68",
   "metadata": {},
   "source": [
    "## Load data"
   ]
  },
  {
   "cell_type": "markdown",
   "id": "ba14bf9f",
   "metadata": {},
   "source": [
    "Define the path to the file containing the data"
   ]
  },
  {
   "cell_type": "code",
   "execution_count": 2,
   "id": "5f3f924f",
   "metadata": {},
   "outputs": [],
   "source": [
    "datafile = \"lausanne-appart.csv\""
   ]
  },
  {
   "cell_type": "markdown",
   "id": "adfab574",
   "metadata": {},
   "source": [
    "Read the data"
   ]
  },
  {
   "cell_type": "code",
   "execution_count": 3,
   "id": "5108e239",
   "metadata": {},
   "outputs": [],
   "source": [
    "dataset = pd.read_csv(datafile)"
   ]
  },
  {
   "cell_type": "markdown",
   "id": "5a97d4cc",
   "metadata": {},
   "source": [
    "Display first rows"
   ]
  },
  {
   "cell_type": "code",
   "execution_count": 4,
   "id": "34222aff",
   "metadata": {},
   "outputs": [
    {
     "data": {
      "text/html": [
       "<div>\n",
       "<style scoped>\n",
       "    .dataframe tbody tr th:only-of-type {\n",
       "        vertical-align: middle;\n",
       "    }\n",
       "\n",
       "    .dataframe tbody tr th {\n",
       "        vertical-align: top;\n",
       "    }\n",
       "\n",
       "    .dataframe thead th {\n",
       "        text-align: right;\n",
       "    }\n",
       "</style>\n",
       "<table border=\"1\" class=\"dataframe\">\n",
       "  <thead>\n",
       "    <tr style=\"text-align: right;\">\n",
       "      <th></th>\n",
       "      <th>living_area</th>\n",
       "      <th>nb_rooms</th>\n",
       "      <th>rent_price</th>\n",
       "    </tr>\n",
       "  </thead>\n",
       "  <tbody>\n",
       "    <tr>\n",
       "      <th>0</th>\n",
       "      <td>69</td>\n",
       "      <td>3.0</td>\n",
       "      <td>1810</td>\n",
       "    </tr>\n",
       "    <tr>\n",
       "      <th>1</th>\n",
       "      <td>95</td>\n",
       "      <td>3.5</td>\n",
       "      <td>2945</td>\n",
       "    </tr>\n",
       "    <tr>\n",
       "      <th>2</th>\n",
       "      <td>21</td>\n",
       "      <td>1.5</td>\n",
       "      <td>685</td>\n",
       "    </tr>\n",
       "    <tr>\n",
       "      <th>3</th>\n",
       "      <td>20</td>\n",
       "      <td>1.0</td>\n",
       "      <td>720</td>\n",
       "    </tr>\n",
       "    <tr>\n",
       "      <th>4</th>\n",
       "      <td>33</td>\n",
       "      <td>1.5</td>\n",
       "      <td>830</td>\n",
       "    </tr>\n",
       "  </tbody>\n",
       "</table>\n",
       "</div>"
      ],
      "text/plain": [
       "   living_area  nb_rooms  rent_price\n",
       "0           69       3.0        1810\n",
       "1           95       3.5        2945\n",
       "2           21       1.5         685\n",
       "3           20       1.0         720\n",
       "4           33       1.5         830"
      ]
     },
     "execution_count": 4,
     "metadata": {},
     "output_type": "execute_result"
    }
   ],
   "source": [
    "dataset.head()"
   ]
  },
  {
   "cell_type": "markdown",
   "id": "2ec4b8eb",
   "metadata": {},
   "source": [
    "## Exercise 1 - Visualize the data"
   ]
  },
  {
   "cell_type": "markdown",
   "id": "dbf6b9cf",
   "metadata": {},
   "source": [
    "a) Plot a histogram to visualize the distribution of the renting price"
   ]
  },
  {
   "cell_type": "code",
   "execution_count": 25,
   "id": "ad07d4cd",
   "metadata": {},
   "outputs": [
    {
     "data": {
      "text/plain": [
       "Text(0.5, 1.0, 'Renting price')"
      ]
     },
     "execution_count": 25,
     "metadata": {},
     "output_type": "execute_result"
    },
    {
     "data": {
      "image/png": "[encoded data removed]",
      "text/plain": [
       "<Figure size 640x480 with 1 Axes>"
      ]
     },
     "metadata": {},
     "output_type": "display_data"
    }
   ],
   "source": [
    "# Your code here\n",
    "dataset['rent_price'].plot.hist(bins = 100)\n",
    "plt.title('Renting price')"
   ]
  },
  {
   "cell_type": "markdown",
   "id": "602770ae",
   "metadata": {},
   "source": [
    "b) Plot a histogram to visualize the distribution of the living area"
   ]
  },
  {
   "cell_type": "code",
   "execution_count": 26,
   "id": "ac0c9f07",
   "metadata": {},
   "outputs": [
    {
     "data": {
      "text/plain": [
       "Text(0.5, 1.0, 'Living area')"
      ]
     },
     "execution_count": 26,
     "metadata": {},
     "output_type": "execute_result"
    },
    {
     "data": {
      "image/png": "[encoded data removed]",
      "text/plain": [
       "<Figure size 640x480 with 1 Axes>"
      ]
     },
     "metadata": {},
     "output_type": "display_data"
    }
   ],
   "source": [
    "# Your code here\n",
    "dataset['living_area'].plot.hist(bins = 100)\n",
    "plt.title('Living area')"
   ]
  },
  {
   "cell_type": "markdown",
   "id": "b9a954dd",
   "metadata": {},
   "source": [
    "c) Plot a scatter plot of renting price as a function of living area"
   ]
  },
  {
   "cell_type": "code",
   "execution_count": 28,
   "id": "6d015af9",
   "metadata": {},
   "outputs": [
    {
     "ename": "TypeError",
     "evalue": "scatter() missing 1 required positional argument: 'y'",
     "output_type": "error",
     "traceback": [
      "\u001b[1;31m---------------------------------------------------------------------------\u001b[0m",
      "\u001b[1;31mTypeError\u001b[0m                                 Traceback (most recent call last)",
      "Cell \u001b[1;32mIn[28], line 2\u001b[0m\n\u001b[0;32m      1\u001b[0m \u001b[38;5;66;03m# Your code here\u001b[39;00m\n\u001b[1;32m----> 2\u001b[0m \u001b[43mplt\u001b[49m\u001b[38;5;241;43m.\u001b[39;49m\u001b[43mscatter\u001b[49m\u001b[43m(\u001b[49m\u001b[43mdataset\u001b[49m\u001b[43m[\u001b[49m\u001b[38;5;124;43m'\u001b[39;49m\u001b[38;5;124;43mliving_area\u001b[39;49m\u001b[38;5;124;43m'\u001b[39;49m\u001b[43m]\u001b[49m\u001b[43m)\u001b[49m\n\u001b[0;32m      3\u001b[0m plt\u001b[38;5;241m.\u001b[39mtitle(\u001b[38;5;124m'\u001b[39m\u001b[38;5;124mRentign price\u001b[39m\u001b[38;5;124m'\u001b[39m)\n",
      "\u001b[1;31mTypeError\u001b[0m: scatter() missing 1 required positional argument: 'y'"
     ]
    }
   ],
   "source": [
    "# Your code here\n",
    "plt.scatter(dataset['living_area'])\n",
    "plt.title('Rentign price')"
   ]
  },
  {
   "cell_type": "markdown",
   "id": "9c787c4b",
   "metadata": {},
   "source": [
    "## Exercise 2 - Normal equations for linear regression"
   ]
  },
  {
   "cell_type": "markdown",
   "id": "859bbd89",
   "metadata": {},
   "source": [
    "a) Implement the closed form solution to this problem using the following normal equation:"
   ]
  },
  {
   "cell_type": "markdown",
   "id": "cf1d5eda",
   "metadata": {},
   "source": [
    "<div><div style=\"display: table-cell; width: 100%;\"><center>$\\theta = (X^{T}X)^{-1}X^{T}\\vec{y}$</center></div><div style=\"display: table-cell; width: 100%;\">$(3)$</div></div>"
   ]
  },
  {
   "cell_type": "markdown",
   "id": "c3c8e4c1",
   "metadata": {},
   "source": [
    "Assuming $x$ is the living area and $y$ is the renting price. Use `numpy` for the vector operations. Plot the computed line on top of the scatter plot of exercise 1."
   ]
  },
  {
   "cell_type": "code",
   "execution_count": 8,
   "id": "19ffbbd9",
   "metadata": {},
   "outputs": [],
   "source": [
    "# Your code here"
   ]
  },
  {
   "cell_type": "markdown",
   "id": "ccc5d7b9",
   "metadata": {},
   "source": [
    "b) Compute the overall cost value according to the following equation:"
   ]
  },
  {
   "cell_type": "markdown",
   "id": "31a38211",
   "metadata": {},
   "source": [
    "<div><div style=\"display: table-cell; width: 100%;\"><center>$J(\\theta) = \\frac{1}{2N} \\sum_{n=1}^{N} (h_{\\theta}(\\mathbf{x}_{n}) - y_{n})^{2}$</center></div><div style=\"display: table-cell; width: 100%;\">$(2)$</div></div>"
   ]
  },
  {
   "cell_type": "code",
   "execution_count": 9,
   "id": "db65a2fa",
   "metadata": {},
   "outputs": [],
   "source": [
    "# Your code here"
   ]
  },
  {
   "cell_type": "markdown",
   "id": "38fed9aa",
   "metadata": {},
   "source": [
    "## Exercise 3 - Gradient descent for linear regression"
   ]
  },
  {
   "cell_type": "markdown",
   "id": "d946ac48",
   "metadata": {},
   "source": [
    "Implement the _full batch_ gradient descent algorithm for the previous problem. As seen in the\n",
    "theory, the update rules are:"
   ]
  },
  {
   "cell_type": "markdown",
   "id": "a26a0250",
   "metadata": {},
   "source": [
    "$\\theta_0 \\leftarrow \\theta_0 - \\alpha\\cfrac{1}{N}\\sum_{n=1}^{N} (h_{\\theta}(\\mathbf{x}_{n}) - y_{n})$ (6)\\\n",
    "$\\theta_{1} \\leftarrow \\theta_{1} - \\alpha \\frac{1}{N} \\sum_{n=1}^{N} (h_{\\theta}(\\mathbf{x}_{n}) - y_{n}) x_{n,1}$ (7)"
   ]
  },
  {
   "cell_type": "markdown",
   "id": "3e0f8c42",
   "metadata": {},
   "source": [
    "**Remark** You need to iterate several times over the training set. If you have problems of convergence, you need to use a smaller value of $\\alpha$. Values such as $0.000001$ are common."
   ]
  },
  {
   "cell_type": "code",
   "execution_count": 71,
   "id": "9ca79a3d",
   "metadata": {},
   "outputs": [
    {
     "name": "stdout",
     "output_type": "stream",
     "text": [
      "0.002378243781094527 0.2401261402223047\n",
      "0.004736987180290704 0.47824013649957003\n",
      "0.007076393601175119 0.7143588496154789\n",
      "0.009396625078092094 0.9484989990685806\n",
      "0.011697842287617272 1.1806771642561908\n",
      "0.013980204559935056 1.410909785648372\n",
      "0.01624386989012071 1.639213165952076\n",
      "0.018488994949327917 1.8656034712655305\n",
      "0.020715735095882596 2.0900967322229556\n",
      "0.022924244386283765 2.3127088451296838\n"
     ]
    }
   ],
   "source": [
    "# Your code here$\n",
    "alpha = 1e-6\n",
    "x = dataset['living_area']\n",
    "y = dataset['rent_price']\n",
    "N = x.shape[0]\n",
    "theta = np.polyfit(x,y,1)\n",
    "h_theta = theta[1]+theta[0]*x\n",
    "theta_0 = 0\n",
    "theta_1 = 0\n",
    "# theta_0 -= alpha/N*(np.sum(theta.T*x - y))\n",
    "# theta_1 = alpha/N*(np.sum(h_theta - y))\n",
    "\n",
    "for n in range(10):\n",
    "    theta_0 -= alpha/N*(np.sum((theta_0 +theta_1*x) - y))\n",
    "    theta_1 -= alpha/N*(np.sum(((theta_0+theta_1*x) - y)*x[:]))\n",
    "    print(theta_0,theta_1)\n",
    "    "
   ]
  },
  {
   "cell_type": "markdown",
   "id": "da5121b6",
   "metadata": {},
   "source": [
    "a) Plot the cost value (Equation 2) as a function of the iterations. What do you observe?"
   ]
  },
  {
   "cell_type": "markdown",
   "id": "63c76015",
   "metadata": {},
   "source": [
    "*Answer*: ..."
   ]
  },
  {
   "cell_type": "code",
   "execution_count": 29,
   "id": "5a34ad43",
   "metadata": {},
   "outputs": [
    {
     "ename": "NameError",
     "evalue": "name 'Jcost' is not defined",
     "output_type": "error",
     "traceback": [
      "\u001b[1;31m---------------------------------------------------------------------------\u001b[0m",
      "\u001b[1;31mNameError\u001b[0m                                 Traceback (most recent call last)",
      "Cell \u001b[1;32mIn[29], line 3\u001b[0m\n\u001b[0;32m      1\u001b[0m \u001b[38;5;66;03m# Your code here\u001b[39;00m\n\u001b[0;32m      2\u001b[0m plt\u001b[38;5;241m.\u001b[39mfigure()\n\u001b[1;32m----> 3\u001b[0m plt\u001b[38;5;241m.\u001b[39mplot(\u001b[43mJcost\u001b[49m,y)\n\u001b[0;32m      4\u001b[0m plt\u001b[38;5;241m.\u001b[39mtitle(\u001b[38;5;124m\"\u001b[39m\u001b[38;5;124mCost value\u001b[39m\u001b[38;5;124m\"\u001b[39m)\n\u001b[0;32m      5\u001b[0m plt\u001b[38;5;241m.\u001b[39mxlabel(\u001b[38;5;124m\"\u001b[39m\u001b[38;5;124mIterations\u001b[39m\u001b[38;5;124m\"\u001b[39m)\n",
      "\u001b[1;31mNameError\u001b[0m: name 'Jcost' is not defined"
     ]
    },
    {
     "data": {
      "text/plain": [
       "<Figure size 640x480 with 0 Axes>"
      ]
     },
     "metadata": {},
     "output_type": "display_data"
    }
   ],
   "source": [
    "# Your code here\n",
    "plt.figure()\n",
    "plt.plot(Jcost,y)\n",
    "plt.title(\"Cost value\")\n",
    "plt.xlabel(\"Iterations\")\n",
    "plt.ylabel(\"J($\\theta$)\")"
   ]
  },
  {
   "cell_type": "markdown",
   "id": "63917be0",
   "metadata": {},
   "source": [
    "_Your answer here_"
   ]
  },
  {
   "cell_type": "markdown",
   "id": "c5903f37",
   "metadata": {},
   "source": [
    "b) Imagine a stopping criterion, i.e. when do we stop iterating on the training set?"
   ]
  },
  {
   "cell_type": "markdown",
   "id": "93905b85",
   "metadata": {},
   "source": [
    "_Your answer here_"
   ]
  },
  {
   "cell_type": "markdown",
   "id": "7667bec1",
   "metadata": {},
   "source": [
    "c) Plot the computed line $h_{\\theta}(\\mathbf{x})$ on top of the scatter plot of exercise 1."
   ]
  },
  {
   "cell_type": "code",
   "execution_count": 12,
   "id": "e80c04b3",
   "metadata": {},
   "outputs": [],
   "source": [
    "# Your code here"
   ]
  },
  {
   "cell_type": "markdown",
   "id": "d1fdf27b",
   "metadata": {},
   "source": [
    "d) Compute the final cost value according to Equation 2 and compare it to the one of exercise 2. What can you conclude?"
   ]
  },
  {
   "cell_type": "code",
   "execution_count": 13,
   "id": "5e594f32",
   "metadata": {},
   "outputs": [],
   "source": [
    "# Your code here"
   ]
  },
  {
   "cell_type": "markdown",
   "id": "cd10b91b",
   "metadata": {},
   "source": [
    "_Your answer here_"
   ]
  },
  {
   "cell_type": "markdown",
   "id": "54727ff1",
   "metadata": {},
   "source": [
    "## Exercise 4 - Stochastic gradient descent for linear regression"
   ]
  },
  {
   "cell_type": "markdown",
   "id": "32a00957",
   "metadata": {},
   "source": [
    "Implement the stochastic gradient descent algorithm for the previous problem. As seen in the theory, the update rules are:"
   ]
  },
  {
   "cell_type": "markdown",
   "id": "636920d2",
   "metadata": {},
   "source": [
    "<div><div style=\"display: table-cell; width: 100%;\"><center>$\\theta_{i} \\leftarrow \\theta_{i} - \\alpha (h_{\\theta}(\\mathbf{x}_{n}) - y_{n}) x_{n,i}$</center></div><div style=\"display: table-cell; width: 100%;\">$(8)$</div></div>"
   ]
  },
  {
   "cell_type": "code",
   "execution_count": 14,
   "id": "3f693388",
   "metadata": {},
   "outputs": [],
   "source": [
    "# Your code here"
   ]
  },
  {
   "cell_type": "markdown",
   "id": "cb73d7c1",
   "metadata": {},
   "source": [
    "a) Plot the computed line $h_{\\theta}(\\mathbf{x})$ on top of the scatter plot of exercise 1."
   ]
  },
  {
   "cell_type": "code",
   "execution_count": 15,
   "id": "f73c6af3",
   "metadata": {},
   "outputs": [],
   "source": [
    "# Your code here"
   ]
  },
  {
   "cell_type": "markdown",
   "id": "16e1eec7",
   "metadata": {},
   "source": [
    "b) How many samples do you need to visit for reaching the convergence?"
   ]
  },
  {
   "cell_type": "markdown",
   "id": "fd7870eb",
   "metadata": {},
   "source": [
    "_Your answer here_"
   ]
  },
  {
   "cell_type": "markdown",
   "id": "c185d7bc",
   "metadata": {},
   "source": [
    "c) What kind of stopping criterion could we use here?"
   ]
  },
  {
   "cell_type": "markdown",
   "id": "235f3ac0",
   "metadata": {},
   "source": [
    "_Your answer here_"
   ]
  },
  {
   "cell_type": "markdown",
   "id": "5e7ce003",
   "metadata": {},
   "source": [
    "d) Compute the final cost value according to Equation 2 and compare it to the one of exercise 2 and 3. What can you conclude?"
   ]
  },
  {
   "cell_type": "code",
   "execution_count": 16,
   "id": "dbcb6f22",
   "metadata": {},
   "outputs": [],
   "source": [
    "# Your code here"
   ]
  },
  {
   "cell_type": "markdown",
   "id": "27a8e7fd",
   "metadata": {},
   "source": [
    "_Your answer here_"
   ]
  },
  {
   "cell_type": "markdown",
   "id": "a8a85676",
   "metadata": {},
   "source": [
    "## Exercise 5 - Review questions"
   ]
  },
  {
   "cell_type": "markdown",
   "id": "84f82d3d",
   "metadata": {},
   "source": [
    "a) The linear regression has a mathematical _closed form_ solution. Then, in which conditions would we prefer a gradient descent algorithm to compute the regression model?"
   ]
  },
  {
   "cell_type": "markdown",
   "id": "eecbe019",
   "metadata": {},
   "source": [
    "_Your answer here_"
   ]
  },
  {
   "cell_type": "markdown",
   "id": "3696b258",
   "metadata": {},
   "source": [
    "b) Outliers in a data set can be defined as values that are out of the \"usual\" range in comparison with other values. They typically come from noise or anomalies in the data capturing process. What is the impact of an outlier in the stochastic gradient descent process? What if we have many outliers? _Hint_: look at the equation of the MSE, and to the equation of the update rule."
   ]
  },
  {
   "cell_type": "markdown",
   "id": "4873219d",
   "metadata": {},
   "source": [
    "_Your answer here_"
   ]
  },
  {
   "cell_type": "markdown",
   "id": "22dce221",
   "metadata": {},
   "source": [
    "c) In the case of stochastic gradient descent, what is the danger of having a too large or too small $\\alpha$ value? Could you think of a better (more advanced) strategy as the one stated in Slide 36?"
   ]
  },
  {
   "cell_type": "markdown",
   "id": "d1536554",
   "metadata": {},
   "source": [
    "_Your answer here_"
   ]
  },
  {
   "cell_type": "markdown",
   "id": "07bdad8b",
   "metadata": {},
   "source": [
    "d) Let's assume we expect that the target variable $y$ has a dependency to the square and to the cube of one of the feature $x_d$ in our multi-variable training set $(x_1, \\ldots, x_d, \\ldots, x_D)$. How would you proceed? Do we need to take precautions in terms of numerical stability?"
   ]
  },
  {
   "cell_type": "markdown",
   "id": "d4f242c5",
   "metadata": {},
   "source": [
    "_Your answer here_"
   ]
  },
  {
   "cell_type": "markdown",
   "id": "b7cf619b",
   "metadata": {},
   "source": [
    "e) _Advanced_. Could we use a descent algorithm without computing the gradient? If yes, give a pseudo code of the algorithm to find $(\\theta_{0}, \\theta_{1})$ using a linear regression $h_{\\theta}(x) = \\theta_0 + \\theta_1 x$."
   ]
  },
  {
   "cell_type": "markdown",
   "id": "89317af1",
   "metadata": {},
   "source": [
    "_Your answer here_"
   ]
  },
  {
   "cell_type": "code",
   "execution_count": null,
   "id": "2b0997fa",
   "metadata": {},
   "outputs": [],
   "source": []
  }
 ],
 "metadata": {
  "kernelspec": {
   "display_name": ".venv",
   "language": "python",
   "name": "python3"
  },
  "language_info": {
   "codemirror_mode": {
    "name": "ipython",
    "version": 3
   },
   "file_extension": ".py",
   "mimetype": "text/x-python",
   "name": "python",
   "nbconvert_exporter": "python",
   "pygments_lexer": "ipython3",
   "version": "3.8.10"
  }
 },
 "nbformat": 4,
 "nbformat_minor": 5
}
