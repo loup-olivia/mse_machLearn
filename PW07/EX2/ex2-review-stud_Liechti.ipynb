{
 "cells": [
  {
   "cell_type": "markdown",
   "id": "8f92f064",
   "metadata": {},
   "source": [
    "Liechti Matthieu- Loup Olivia"
   ]
  },
  {
   "cell_type": "markdown",
   "id": "747b5d41",
   "metadata": {},
   "source": [
    "# Ex2 - Review questions"
   ]
  },
  {
   "cell_type": "markdown",
   "id": "e60f6082",
   "metadata": {},
   "source": [
    "### a) What are the two fundamental ideas a SVM are built on ? Summarize them with your own words."
   ]
  },
  {
   "cell_type": "markdown",
   "id": "2d929674",
   "metadata": {},
   "source": [
    "There is two concepts of SVM. The first one, maximisation of the margin. It consiste of finding a ligne or a plane that separates two classes and it try to maximize the margin. This margin is the distance between the ligne and the nearest point of each class.\n",
    "The second concept is the Kernel trick, it is used to deal with non-linear datas. It uses higher dimensions to separate classes with planes."
   ]
  },
  {
   "cell_type": "markdown",
   "id": "266203b9",
   "metadata": {},
   "source": [
    "### b) With the hinge loss, training points can fall into three cases. Re-explain these cases with your own words."
   ]
  },
  {
   "cell_type": "markdown",
   "id": "fbbb3fe5",
   "metadata": {},
   "source": [
    "1: The point is correctly classified. This point is not in the margin zone. This points are usefull for the descision but they didn't contribut to the loss function.\n",
    "\n",
    "2: The point is correctly classified but it lies close to the decision boundary, within the margin. This situation isn’t ideal because, even though it’s technically correct, it’s too close to misclassification. The penality is proportional to how close the point is near the descision boundary.\n",
    "\n",
    "3: The point is missclassified. The point is in the wrond side of the descision boundary. This missclassified point are crutial because they significatively contribute to the loss function."
   ]
  },
  {
   "cell_type": "markdown",
   "id": "18438801",
   "metadata": {},
   "source": [
    "### c) What are the two implementations of SVMs available in SciKit Learn ? Which one would you take if you have a system that needs to incorporate incremental learning ?"
   ]
  },
  {
   "cell_type": "markdown",
   "id": "797101d2",
   "metadata": {},
   "source": [
    "There is two major impletmentation of SVM with scikit learn. The first one is the SVC (Supptort Vector Classification) and the second one, the LinearSVC(Linear Support Vector Classification).\n",
    "\n",
    "The SVC can easely handle linear and non-lienar data sets. It can also use different kernel type.\n",
    "\n",
    "The LinearSVC is juste an optimized version for linear cases. It can work with mutch larger datasets\n",
    "\n",
    "\n",
    "I whould chose the linearSVC Because it will use less ressources on the PC and it will work faster with huges data sets"
   ]
  },
  {
   "cell_type": "markdown",
   "id": "9bd848f8",
   "metadata": {},
   "source": [
    "### d) A SVM can classify between 2 classes. Cite and explain in your own words the 2 strategies we have to build a multi-class (with K classes) system with SVM ?"
   ]
  },
  {
   "cell_type": "markdown",
   "id": "c8c2fefe",
   "metadata": {},
   "source": [
    "We have two startegies to develop a classify between k classes :\n",
    "### One-vs-all : \n",
    "Binary classification similar than with two classes but on class is the\n",
    "searched one and the other is all the other classes. The classification is \n",
    "repeated for k classes with change of searched class.\n",
    "### One-vs-one : \n",
    "Binary classification between two class repeated to have \n",
    "classification of K classes.\n"
   ]
  },
  {
   "cell_type": "markdown",
   "id": "9a6c6821",
   "metadata": {},
   "source": [
    "### e) Are the strategies of point d) equal in terms of cpu ? (elaborate your answer considering training and testing times)"
   ]
  },
  {
   "cell_type": "markdown",
   "id": "ca341ee1",
   "metadata": {},
   "source": [
    "With test of time in real anc CPU (only fit the classification), the one-vs-one is generally faster.\n",
    "But the one-vs-one ask more classes than one-vs-all.\n",
    "\n",
    "Important : \n",
    "- Test doing in ex1 \"Test CPU (EX 2e)\"\n",
    "- Inspiration for the test : https://realpython.com/python-profiling/"
   ]
  },
  {
   "cell_type": "markdown",
   "id": "458ede30",
   "metadata": {},
   "source": [
    "### f) Describe a machine learning task for which SVM would be a better choice than any of the algorithms previously studied. Explain why."
   ]
  },
  {
   "cell_type": "markdown",
   "id": "18048e25",
   "metadata": {},
   "source": [
    "Multi-class is a good classifier for :\n",
    "- small/medium number of samples\n",
    "- Large number of features\n",
    "A good classification could be coins classifier with 7 features (CHF coins)."
   ]
  }
 ],
 "metadata": {
  "kernelspec": {
   "display_name": "Python 3 (ipykernel)",
   "language": "python",
   "name": "python3"
  },
  "language_info": {
   "codemirror_mode": {
    "name": "ipython",
    "version": 3
   },
   "file_extension": ".py",
   "mimetype": "text/x-python",
   "name": "python",
   "nbconvert_exporter": "python",
   "pygments_lexer": "ipython3",
   "version": "3.11.9"
  }
 },
 "nbformat": 4,
 "nbformat_minor": 5
}
